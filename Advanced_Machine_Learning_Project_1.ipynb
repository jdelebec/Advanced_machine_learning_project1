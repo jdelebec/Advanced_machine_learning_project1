{
  "nbformat": 4,
  "nbformat_minor": 0,
  "metadata": {
    "colab": {
      "name": "Advanced_Machine_Learning_Project_1.ipynb",
      "provenance": [],
      "collapsed_sections": [],
      "include_colab_link": true
    },
    "kernelspec": {
      "display_name": "Python 3",
      "language": "python",
      "name": "python3"
    },
    "language_info": {
      "codemirror_mode": {
        "name": "ipython",
        "version": 3
      },
      "file_extension": ".py",
      "mimetype": "text/x-python",
      "name": "python",
      "nbconvert_exporter": "python",
      "pygments_lexer": "ipython3",
      "version": "3.8.1"
    }
  },
  "cells": [
    {
      "cell_type": "markdown",
      "metadata": {
        "id": "view-in-github",
        "colab_type": "text"
      },
      "source": [
        "<a href=\"https://colab.research.google.com/github/jdelebec/Advanced_machine_learning_project1/blob/main/Advanced_Machine_Learning_Project_1.ipynb\" target=\"_parent\"><img src=\"https://colab.research.google.com/assets/colab-badge.svg\" alt=\"Open In Colab\"/></a>"
      ]
    },
    {
      "cell_type": "code",
      "metadata": {
        "id": "4hEPvYaME9wB"
      },
      "source": [
        "import pandas as pd\n",
        "import nltk\n",
        "nltk.download(\"stopwords\")"
      ],
      "execution_count": null,
      "outputs": []
    },
    {
      "cell_type": "code",
      "metadata": {
        "id": "xOj8Jz-YMQDi"
      },
      "source": [
        "!pip install lxml"
      ],
      "execution_count": null,
      "outputs": []
    },
    {
      "cell_type": "code",
      "metadata": {
        "id": "TzWHP8ldFXqg"
      },
      "source": [
        "import bs4\n",
        "from bs4 import BeautifulSoup as bs\n",
        "import lxml\n",
        "import pandas as pd"
      ],
      "execution_count": null,
      "outputs": []
    },
    {
      "cell_type": "code",
      "metadata": {
        "id": "YFx3W_N7FYVx"
      },
      "source": [
        "content = []\n",
        "with open(\"corpus_taln_v1.tei.xml\", \"r\") as file:  \n",
        "    content = file.readlines()\n",
        "    content = \"\".join(content)\n",
        "    soup = bs(content, \"lxml\")"
      ],
      "execution_count": null,
      "outputs": []
    },
    {
      "cell_type": "code",
      "metadata": {
        "id": "u9PUiaM9FYfF"
      },
      "source": [
        "def Get_text(soup):\n",
        "\n",
        "  dic = {}\n",
        "\n",
        "  #================================================================\n",
        "\n",
        "  title = soup.find(\"title\").get_text().replace(\"\\n\\t\", \"\")\n",
        "  author = soup.find(\"author\")\n",
        "  author_names = author.find_all(\"name\")\n",
        "  publication_place = soup.find(\"pubplace\").get_text()\n",
        "  publication_date = soup.find(\"publicationstmt\").find(\"date\").get_text()\n",
        "  editor_name = soup.find(\"editor\").find(\"name\").get_text()\n",
        "  monogr_title = soup.find(\"monogr\").find(\"title\").get_text()\n",
        "  monogr_date = soup.find(\"monogr\").find(\"date\").get_text()\n",
        "  abstract = soup.find(\"text\").find_all(\"div\", {\"type\": \"abstract\"})\n",
        "  abstract_fr = abstract[0].find(\"p\").get_text().replace(\"\\n\\t\", \"\")\n",
        "  abstract_eng = abstract[1].find(\"p\").get_text().replace(\"\\n\\t\", \"\")\n",
        "  keywords = soup.find(\"text\").find_all(\"div\", {\"type\": \"keywords\"})\n",
        "  keywords_fr = keywords[0].find(\"p\").get_text().replace(\"\\n\\t\", \"\")\n",
        "  keywords_eng = keywords[1].find(\"p\").get_text().replace(\"\\n\\t\", \"\")\n",
        "  sections = soup.find_all(\"div\", {\"type\": \"section\"})\n",
        "  tab = []\n",
        "\n",
        "  #============================================================\n",
        "\n",
        "  # Introduction - Sections - Conclusion\n",
        "  sections = soup.find_all(\"div\", {\"type\": \"section\"})\n",
        "  for section in sections:\n",
        "    # title section\n",
        "    try:\n",
        "      title_sec = section.get_text().split(\"\\n\")[2]\n",
        "      tab.append(title_sec)\n",
        "    except:\n",
        "      pass\n",
        "    # paragraph section\n",
        "    try:\n",
        "      parag_sec = section.find(\"p\").get_text().replace(\"\\n\\t\", \"\")\n",
        "      tab.append(parag_sec)\n",
        "    except:\n",
        "      pass\n",
        "    # Subsection\n",
        "    try:\n",
        "      subsections = section.find_all(\"div\", {\"type\": \"subsection\"})\n",
        "      for sub in subsections:\n",
        "        # title subsection\n",
        "        title_sub = sub.get_text().split(\"\\n\")[2]\n",
        "        tab.append(title_sub)\n",
        "      \n",
        "        # paragraphs subsection\n",
        "        paragraphs = sub.find_all(\"p\")\n",
        "        for parag in paragraphs:\n",
        "          tab.append(parag.get_text().replace(\"\\n\\t\", \"\"))\n",
        "        \n",
        "        # sub note\n",
        "        try:\n",
        "          notes = sub.find_all(\"note\")\n",
        "          for note in notes:\n",
        "            tab.append(note.get_text())\n",
        "        except:\n",
        "          pass\n",
        "    \n",
        "    except:\n",
        "      pass\n",
        "    \n",
        "    # note\n",
        "    try:\n",
        "      notes = section.find_all(\"note\")\n",
        "      for note in notes:\n",
        "        tab.append(note.get_text())\n",
        "    except:\n",
        "      pass\n",
        "\n",
        "\n",
        "  # Bibl\n",
        "\n",
        "  try:\n",
        "    bibl = soup.find(\"bibl\").get_text()\n",
        "    tab.append(bibl)\n",
        "  except:\n",
        "    pass\n",
        "\n",
        "  #===============================================================\n",
        "\n",
        "  dic[\"title\"] = title\n",
        "  for index, name in enumerate(author_names):\n",
        "    dic[\"author_name_\" + str(index)] = name.get_text()\n",
        "  try:\n",
        "    author_emails = author.find_all(\"email\")\n",
        "    for index, email in enumerate(author_emails):\n",
        "      dic[\"author_email_\" + str(index)] = email.get_text()\n",
        "  except:\n",
        "    dic[\"author_email\"] = None\n",
        "  dic[\"publication_place\"] = publication_place\n",
        "  dic[\"publication_date\"] = publication_date\n",
        "  dic[\"editor_name\"] = editor_name\n",
        "  dic[\"monogr_title\"] = monogr_title\n",
        "  dic[\"monogr_date\"] = monogr_date\n",
        "  dic[\"abstract_fr\"] = abstract_fr\n",
        "  dic[\"abstract_eng\"] = abstract_eng\n",
        "  dic[\"keywords_fr\"] = keywords_fr\n",
        "  dic[\"keywords_eng\"] = keywords_eng\n",
        "  dic[\"text\"] = \" \".join(str(elem) for elem in tab)\n",
        "\n",
        "  #>\n",
        "  return dic\n"
      ],
      "execution_count": null,
      "outputs": []
    },
    {
      "cell_type": "code",
      "metadata": {
        "id": "6lQk_8iyZnV7"
      },
      "source": [
        "corpus = []\n",
        "texts = soup.find_all(\"tei\")\n",
        "for text in texts:\n",
        "  corpus.append(Get_text(text))"
      ],
      "execution_count": null,
      "outputs": []
    },
    {
      "cell_type": "code",
      "metadata": {
        "id": "zzoXU69ocJL4"
      },
      "source": [
        "corpus"
      ],
      "execution_count": null,
      "outputs": []
    },
    {
      "cell_type": "code",
      "metadata": {
        "id": "lMvLG6Raf28r"
      },
      "source": [
        "df = pd.DataFrame(corpus)"
      ],
      "execution_count": null,
      "outputs": []
    },
    {
      "cell_type": "code",
      "metadata": {
        "colab": {
          "base_uri": "https://localhost:8080/",
          "height": 564
        },
        "id": "EHfTrqEzf3M6",
        "outputId": "91583405-5cf4-4229-af67-54c5e9fc990d"
      },
      "source": [
        "df.head()"
      ],
      "execution_count": null,
      "outputs": [
        {
          "output_type": "execute_result",
          "data": {
            "text/html": [
              "<div>\n",
              "<style scoped>\n",
              "    .dataframe tbody tr th:only-of-type {\n",
              "        vertical-align: middle;\n",
              "    }\n",
              "\n",
              "    .dataframe tbody tr th {\n",
              "        vertical-align: top;\n",
              "    }\n",
              "\n",
              "    .dataframe thead th {\n",
              "        text-align: right;\n",
              "    }\n",
              "</style>\n",
              "<table border=\"1\" class=\"dataframe\">\n",
              "  <thead>\n",
              "    <tr style=\"text-align: right;\">\n",
              "      <th></th>\n",
              "      <th>title</th>\n",
              "      <th>author_name_0</th>\n",
              "      <th>author_name_1</th>\n",
              "      <th>author_email_0</th>\n",
              "      <th>author_email_1</th>\n",
              "      <th>publication_place</th>\n",
              "      <th>publication_date</th>\n",
              "      <th>editor_name</th>\n",
              "      <th>monogr_title</th>\n",
              "      <th>monogr_date</th>\n",
              "      <th>abstract_fr</th>\n",
              "      <th>abstract_eng</th>\n",
              "      <th>keywords_fr</th>\n",
              "      <th>keywords_eng</th>\n",
              "      <th>text</th>\n",
              "      <th>author_name_2</th>\n",
              "      <th>author_email_2</th>\n",
              "      <th>author_name_3</th>\n",
              "      <th>author_name_4</th>\n",
              "      <th>author_name_5</th>\n",
              "      <th>author_email_3</th>\n",
              "      <th>author_email_4</th>\n",
              "      <th>author_email_5</th>\n",
              "      <th>author_name_6</th>\n",
              "      <th>author_name_7</th>\n",
              "      <th>author_email_6</th>\n",
              "      <th>author_email_7</th>\n",
              "      <th>author_name_8</th>\n",
              "      <th>author_name_9</th>\n",
              "      <th>author_email_8</th>\n",
              "      <th>author_email_9</th>\n",
              "      <th>author_name_10</th>\n",
              "      <th>author_name_11</th>\n",
              "      <th>author_name_12</th>\n",
              "      <th>author_name_13</th>\n",
              "      <th>author_name_14</th>\n",
              "      <th>author_name_15</th>\n",
              "      <th>author_name_16</th>\n",
              "      <th>author_email_10</th>\n",
              "      <th>author_email_11</th>\n",
              "      <th>author_email_12</th>\n",
              "      <th>author_email_13</th>\n",
              "      <th>author_email_14</th>\n",
              "      <th>author_email_15</th>\n",
              "      <th>author_email_16</th>\n",
              "    </tr>\n",
              "  </thead>\n",
              "  <tbody>\n",
              "    <tr>\n",
              "      <th>0</th>\n",
              "      <td>\\nÉléments de conception d'un système d'interp...</td>\n",
              "      <td>Delphine Battistelli</td>\n",
              "      <td>Cyril Valliez</td>\n",
              "      <td>\\nbattiste@msh-paris.fr\\n</td>\n",
              "      <td>\\nvalliez@msh-paris.fr\\n</td>\n",
              "      <td>Grenoble</td>\n",
              "      <td>1997</td>\n",
              "      <td>Damien Genthial</td>\n",
              "      <td>4e conférence sur le Traitement Automatique de...</td>\n",
              "      <td>1997</td>\n",
              "      <td>\\nNous considérons dans notre travail la tâche...</td>\n",
              "      <td>None</td>\n",
              "      <td>None</td>\n",
              "      <td>None</td>\n",
              "      <td>Architecture globale du système \\nLe modèle de...</td>\n",
              "      <td>NaN</td>\n",
              "      <td>NaN</td>\n",
              "      <td>NaN</td>\n",
              "      <td>NaN</td>\n",
              "      <td>NaN</td>\n",
              "      <td>NaN</td>\n",
              "      <td>NaN</td>\n",
              "      <td>NaN</td>\n",
              "      <td>NaN</td>\n",
              "      <td>NaN</td>\n",
              "      <td>NaN</td>\n",
              "      <td>NaN</td>\n",
              "      <td>NaN</td>\n",
              "      <td>NaN</td>\n",
              "      <td>NaN</td>\n",
              "      <td>NaN</td>\n",
              "      <td>NaN</td>\n",
              "      <td>NaN</td>\n",
              "      <td>NaN</td>\n",
              "      <td>NaN</td>\n",
              "      <td>NaN</td>\n",
              "      <td>NaN</td>\n",
              "      <td>NaN</td>\n",
              "      <td>NaN</td>\n",
              "      <td>NaN</td>\n",
              "      <td>NaN</td>\n",
              "      <td>NaN</td>\n",
              "      <td>NaN</td>\n",
              "      <td>NaN</td>\n",
              "      <td>NaN</td>\n",
              "    </tr>\n",
              "    <tr>\n",
              "      <th>1</th>\n",
              "      <td>\\nInformatisation du dictionnaire explicatif e...</td>\n",
              "      <td>Gilles Sérasset</td>\n",
              "      <td>NaN</td>\n",
              "      <td>\\nGilles.Serasset@imag.fr\\n</td>\n",
              "      <td>NaN</td>\n",
              "      <td>Grenoble</td>\n",
              "      <td>1997</td>\n",
              "      <td>Damien Genthial</td>\n",
              "      <td>4e conférence sur le Traitement Automatique de...</td>\n",
              "      <td>1997</td>\n",
              "      <td>\\nNous donnons ici un aperçu du logiciel DECID...</td>\n",
              "      <td>None</td>\n",
              "      <td>None</td>\n",
              "      <td>None</td>\n",
              "      <td>Introduction \\nDans le domaine de l'ingénieri...</td>\n",
              "      <td>NaN</td>\n",
              "      <td>NaN</td>\n",
              "      <td>NaN</td>\n",
              "      <td>NaN</td>\n",
              "      <td>NaN</td>\n",
              "      <td>NaN</td>\n",
              "      <td>NaN</td>\n",
              "      <td>NaN</td>\n",
              "      <td>NaN</td>\n",
              "      <td>NaN</td>\n",
              "      <td>NaN</td>\n",
              "      <td>NaN</td>\n",
              "      <td>NaN</td>\n",
              "      <td>NaN</td>\n",
              "      <td>NaN</td>\n",
              "      <td>NaN</td>\n",
              "      <td>NaN</td>\n",
              "      <td>NaN</td>\n",
              "      <td>NaN</td>\n",
              "      <td>NaN</td>\n",
              "      <td>NaN</td>\n",
              "      <td>NaN</td>\n",
              "      <td>NaN</td>\n",
              "      <td>NaN</td>\n",
              "      <td>NaN</td>\n",
              "      <td>NaN</td>\n",
              "      <td>NaN</td>\n",
              "      <td>NaN</td>\n",
              "      <td>NaN</td>\n",
              "      <td>NaN</td>\n",
              "    </tr>\n",
              "    <tr>\n",
              "      <th>2</th>\n",
              "      <td>\\nConstruction d'une représentation sémantique...</td>\n",
              "      <td>Pierre Zweigenbaum</td>\n",
              "      <td>Jacques Bouaud</td>\n",
              "      <td>\\npz@biomath.jussieu.fr\\n</td>\n",
              "      <td>\\njb@biomath.jussieu.fr\\n</td>\n",
              "      <td>Grenoble</td>\n",
              "      <td>1997</td>\n",
              "      <td>Damien Genthial</td>\n",
              "      <td>4e conférence sur le Traitement Automatique de...</td>\n",
              "      <td>1997</td>\n",
              "      <td>\\nDiverses méthodes ont été proposées pour con...</td>\n",
              "      <td>None</td>\n",
              "      <td>None</td>\n",
              "      <td>None</td>\n",
              "      <td></td>\n",
              "      <td>NaN</td>\n",
              "      <td>NaN</td>\n",
              "      <td>NaN</td>\n",
              "      <td>NaN</td>\n",
              "      <td>NaN</td>\n",
              "      <td>NaN</td>\n",
              "      <td>NaN</td>\n",
              "      <td>NaN</td>\n",
              "      <td>NaN</td>\n",
              "      <td>NaN</td>\n",
              "      <td>NaN</td>\n",
              "      <td>NaN</td>\n",
              "      <td>NaN</td>\n",
              "      <td>NaN</td>\n",
              "      <td>NaN</td>\n",
              "      <td>NaN</td>\n",
              "      <td>NaN</td>\n",
              "      <td>NaN</td>\n",
              "      <td>NaN</td>\n",
              "      <td>NaN</td>\n",
              "      <td>NaN</td>\n",
              "      <td>NaN</td>\n",
              "      <td>NaN</td>\n",
              "      <td>NaN</td>\n",
              "      <td>NaN</td>\n",
              "      <td>NaN</td>\n",
              "      <td>NaN</td>\n",
              "      <td>NaN</td>\n",
              "      <td>NaN</td>\n",
              "      <td>NaN</td>\n",
              "    </tr>\n",
              "    <tr>\n",
              "      <th>3</th>\n",
              "      <td>\\nSystèmes de types pour la (lambda-)DRT ascen...</td>\n",
              "      <td>Pascal Amsili</td>\n",
              "      <td>Nabil Hathout</td>\n",
              "      <td>\\namsili@linguist.jussieu.fr\\n</td>\n",
              "      <td>\\nhathout@inalf.cnrs.fr\\n</td>\n",
              "      <td>Paris</td>\n",
              "      <td>1998</td>\n",
              "      <td>Pierre Zweigenbaum</td>\n",
              "      <td>5e conférence sur le Traitement Automatique de...</td>\n",
              "      <td>1998</td>\n",
              "      <td>\\nLe terme de lambda-DRT désigne un ensemble d...</td>\n",
              "      <td>None</td>\n",
              "      <td>None</td>\n",
              "      <td>None</td>\n",
              "      <td>Introduction \\nLa « Théorie des Représentation...</td>\n",
              "      <td>NaN</td>\n",
              "      <td>NaN</td>\n",
              "      <td>NaN</td>\n",
              "      <td>NaN</td>\n",
              "      <td>NaN</td>\n",
              "      <td>NaN</td>\n",
              "      <td>NaN</td>\n",
              "      <td>NaN</td>\n",
              "      <td>NaN</td>\n",
              "      <td>NaN</td>\n",
              "      <td>NaN</td>\n",
              "      <td>NaN</td>\n",
              "      <td>NaN</td>\n",
              "      <td>NaN</td>\n",
              "      <td>NaN</td>\n",
              "      <td>NaN</td>\n",
              "      <td>NaN</td>\n",
              "      <td>NaN</td>\n",
              "      <td>NaN</td>\n",
              "      <td>NaN</td>\n",
              "      <td>NaN</td>\n",
              "      <td>NaN</td>\n",
              "      <td>NaN</td>\n",
              "      <td>NaN</td>\n",
              "      <td>NaN</td>\n",
              "      <td>NaN</td>\n",
              "      <td>NaN</td>\n",
              "      <td>NaN</td>\n",
              "      <td>NaN</td>\n",
              "      <td>NaN</td>\n",
              "    </tr>\n",
              "    <tr>\n",
              "      <th>4</th>\n",
              "      <td>\\nUne grammaire TAG vue comme une grammaire Se...</td>\n",
              "      <td>Marie-Hélène Candito</td>\n",
              "      <td>Sylvain Kahane</td>\n",
              "      <td>\\nmarie-helene.candito@linguist.jussieu.fr\\n</td>\n",
              "      <td>\\nsk@ccr.jussieu.fr\\n</td>\n",
              "      <td>Paris</td>\n",
              "      <td>1998</td>\n",
              "      <td>Pierre Zweigenbaum</td>\n",
              "      <td>5e conférence sur le Traitement Automatique de...</td>\n",
              "      <td>1998</td>\n",
              "      <td>\\nDans cet article, nous comparons deux modèle...</td>\n",
              "      <td>None</td>\n",
              "      <td>None</td>\n",
              "      <td>None</td>\n",
              "      <td>Introduction \\nTAG est un formalisme initialem...</td>\n",
              "      <td>NaN</td>\n",
              "      <td>NaN</td>\n",
              "      <td>NaN</td>\n",
              "      <td>NaN</td>\n",
              "      <td>NaN</td>\n",
              "      <td>NaN</td>\n",
              "      <td>NaN</td>\n",
              "      <td>NaN</td>\n",
              "      <td>NaN</td>\n",
              "      <td>NaN</td>\n",
              "      <td>NaN</td>\n",
              "      <td>NaN</td>\n",
              "      <td>NaN</td>\n",
              "      <td>NaN</td>\n",
              "      <td>NaN</td>\n",
              "      <td>NaN</td>\n",
              "      <td>NaN</td>\n",
              "      <td>NaN</td>\n",
              "      <td>NaN</td>\n",
              "      <td>NaN</td>\n",
              "      <td>NaN</td>\n",
              "      <td>NaN</td>\n",
              "      <td>NaN</td>\n",
              "      <td>NaN</td>\n",
              "      <td>NaN</td>\n",
              "      <td>NaN</td>\n",
              "      <td>NaN</td>\n",
              "      <td>NaN</td>\n",
              "      <td>NaN</td>\n",
              "      <td>NaN</td>\n",
              "    </tr>\n",
              "  </tbody>\n",
              "</table>\n",
              "</div>"
            ],
            "text/plain": [
              "                                               title  ... author_email_16\n",
              "0  \\nÉléments de conception d'un système d'interp...  ...             NaN\n",
              "1  \\nInformatisation du dictionnaire explicatif e...  ...             NaN\n",
              "2  \\nConstruction d'une représentation sémantique...  ...             NaN\n",
              "3  \\nSystèmes de types pour la (lambda-)DRT ascen...  ...             NaN\n",
              "4  \\nUne grammaire TAG vue comme une grammaire Se...  ...             NaN\n",
              "\n",
              "[5 rows x 45 columns]"
            ]
          },
          "metadata": {
            "tags": []
          },
          "execution_count": 9
        }
      ]
    },
    {
      "cell_type": "code",
      "metadata": {
        "colab": {
          "base_uri": "https://localhost:8080/"
        },
        "id": "Q7uwzfuv0tjN",
        "outputId": "26601766-cf8b-4ae7-c572-7d50e4e19157"
      },
      "source": [
        "!python -m spacy download fr_core_news_sm"
      ],
      "execution_count": null,
      "outputs": [
        {
          "output_type": "stream",
          "text": [
            "Collecting fr_core_news_sm==2.2.5\n",
            "\u001b[?25l  Downloading https://github.com/explosion/spacy-models/releases/download/fr_core_news_sm-2.2.5/fr_core_news_sm-2.2.5.tar.gz (14.7MB)\n",
            "\u001b[K     |████████████████████████████████| 14.7MB 523kB/s \n",
            "\u001b[?25hRequirement already satisfied: spacy>=2.2.2 in /usr/local/lib/python3.6/dist-packages (from fr_core_news_sm==2.2.5) (2.2.4)\n",
            "Requirement already satisfied: thinc==7.4.0 in /usr/local/lib/python3.6/dist-packages (from spacy>=2.2.2->fr_core_news_sm==2.2.5) (7.4.0)\n",
            "Requirement already satisfied: tqdm<5.0.0,>=4.38.0 in /usr/local/lib/python3.6/dist-packages (from spacy>=2.2.2->fr_core_news_sm==2.2.5) (4.41.1)\n",
            "Requirement already satisfied: plac<1.2.0,>=0.9.6 in /usr/local/lib/python3.6/dist-packages (from spacy>=2.2.2->fr_core_news_sm==2.2.5) (1.1.3)\n",
            "Requirement already satisfied: requests<3.0.0,>=2.13.0 in /usr/local/lib/python3.6/dist-packages (from spacy>=2.2.2->fr_core_news_sm==2.2.5) (2.23.0)\n",
            "Requirement already satisfied: murmurhash<1.1.0,>=0.28.0 in /usr/local/lib/python3.6/dist-packages (from spacy>=2.2.2->fr_core_news_sm==2.2.5) (1.0.4)\n",
            "Requirement already satisfied: preshed<3.1.0,>=3.0.2 in /usr/local/lib/python3.6/dist-packages (from spacy>=2.2.2->fr_core_news_sm==2.2.5) (3.0.4)\n",
            "Requirement already satisfied: cymem<2.1.0,>=2.0.2 in /usr/local/lib/python3.6/dist-packages (from spacy>=2.2.2->fr_core_news_sm==2.2.5) (2.0.4)\n",
            "Requirement already satisfied: blis<0.5.0,>=0.4.0 in /usr/local/lib/python3.6/dist-packages (from spacy>=2.2.2->fr_core_news_sm==2.2.5) (0.4.1)\n",
            "Requirement already satisfied: numpy>=1.15.0 in /usr/local/lib/python3.6/dist-packages (from spacy>=2.2.2->fr_core_news_sm==2.2.5) (1.18.5)\n",
            "Requirement already satisfied: srsly<1.1.0,>=1.0.2 in /usr/local/lib/python3.6/dist-packages (from spacy>=2.2.2->fr_core_news_sm==2.2.5) (1.0.4)\n",
            "Requirement already satisfied: catalogue<1.1.0,>=0.0.7 in /usr/local/lib/python3.6/dist-packages (from spacy>=2.2.2->fr_core_news_sm==2.2.5) (1.0.0)\n",
            "Requirement already satisfied: setuptools in /usr/local/lib/python3.6/dist-packages (from spacy>=2.2.2->fr_core_news_sm==2.2.5) (50.3.2)\n",
            "Requirement already satisfied: wasabi<1.1.0,>=0.4.0 in /usr/local/lib/python3.6/dist-packages (from spacy>=2.2.2->fr_core_news_sm==2.2.5) (0.8.0)\n",
            "Requirement already satisfied: urllib3!=1.25.0,!=1.25.1,<1.26,>=1.21.1 in /usr/local/lib/python3.6/dist-packages (from requests<3.0.0,>=2.13.0->spacy>=2.2.2->fr_core_news_sm==2.2.5) (1.24.3)\n",
            "Requirement already satisfied: idna<3,>=2.5 in /usr/local/lib/python3.6/dist-packages (from requests<3.0.0,>=2.13.0->spacy>=2.2.2->fr_core_news_sm==2.2.5) (2.10)\n",
            "Requirement already satisfied: chardet<4,>=3.0.2 in /usr/local/lib/python3.6/dist-packages (from requests<3.0.0,>=2.13.0->spacy>=2.2.2->fr_core_news_sm==2.2.5) (3.0.4)\n",
            "Requirement already satisfied: certifi>=2017.4.17 in /usr/local/lib/python3.6/dist-packages (from requests<3.0.0,>=2.13.0->spacy>=2.2.2->fr_core_news_sm==2.2.5) (2020.11.8)\n",
            "Requirement already satisfied: importlib-metadata>=0.20; python_version < \"3.8\" in /usr/local/lib/python3.6/dist-packages (from catalogue<1.1.0,>=0.0.7->spacy>=2.2.2->fr_core_news_sm==2.2.5) (2.0.0)\n",
            "Requirement already satisfied: zipp>=0.5 in /usr/local/lib/python3.6/dist-packages (from importlib-metadata>=0.20; python_version < \"3.8\"->catalogue<1.1.0,>=0.0.7->spacy>=2.2.2->fr_core_news_sm==2.2.5) (3.4.0)\n",
            "Building wheels for collected packages: fr-core-news-sm\n",
            "  Building wheel for fr-core-news-sm (setup.py) ... \u001b[?25l\u001b[?25hdone\n",
            "  Created wheel for fr-core-news-sm: filename=fr_core_news_sm-2.2.5-cp36-none-any.whl size=14727027 sha256=2c0458524ae4c62752bb75f211f5eaec8c9ccff38418a30a99719123b3664b44\n",
            "  Stored in directory: /tmp/pip-ephem-wheel-cache-lww2dqwk/wheels/46/1b/e6/29b020e3f9420a24c3f463343afe5136aaaf955dbc9e46dfc5\n",
            "Successfully built fr-core-news-sm\n",
            "Installing collected packages: fr-core-news-sm\n",
            "Successfully installed fr-core-news-sm-2.2.5\n",
            "\u001b[38;5;2m✔ Download and installation successful\u001b[0m\n",
            "You can now load the model via spacy.load('fr_core_news_sm')\n"
          ],
          "name": "stdout"
        }
      ]
    },
    {
      "cell_type": "code",
      "metadata": {
        "colab": {
          "base_uri": "https://localhost:8080/"
        },
        "id": "L_uhHEal0OmR",
        "outputId": "4d53a671-b3e4-447f-8c16-a3974756f5f5"
      },
      "source": [
        "# Packages for processing\n",
        "\n",
        "import nltk\n",
        "from nltk.tokenize import word_tokenize\n",
        "from nltk.tokenize import RegexpTokenizer\n",
        "nltk.download('punkt')\n",
        "nltk.download(\"stopwords\")\n",
        "from nltk.corpus import stopwords\n",
        "french_stopwords = set(stopwords.words(\"french\"))\n",
        "import unicodedata\n",
        "import re\n",
        "import spacy\n",
        "import fr_core_news_sm\n",
        "nlp = fr_core_news_sm.load()"
      ],
      "execution_count": null,
      "outputs": [
        {
          "output_type": "stream",
          "text": [
            "[nltk_data] Downloading package punkt to /root/nltk_data...\n",
            "[nltk_data]   Unzipping tokenizers/punkt.zip.\n",
            "[nltk_data] Downloading package stopwords to /root/nltk_data...\n",
            "[nltk_data]   Package stopwords is already up-to-date!\n"
          ],
          "name": "stdout"
        }
      ]
    },
    {
      "cell_type": "markdown",
      "metadata": {
        "id": "UOHTjPbbHtrK"
      },
      "source": [
        ""
      ]
    },
    {
      "cell_type": "code",
      "metadata": {
        "id": "jLCXz7n5wYTN"
      },
      "source": [
        "# Processing\n",
        "\n",
        "def remove_accents(text):\n",
        "    \n",
        "    norm = unicodedata.normalize('NFKD', str(text))\n",
        "    ascii = norm.encode('ascii', 'ignore')\n",
        "    text = ascii.decode('utf-8', 'ignore')\n",
        "    return text\n",
        "\n",
        "def lower_letters(text):\n",
        "    \n",
        "    return text.lower()\n",
        "\n",
        "def drop_slash_n(text):\n",
        "    \n",
        "    return re.sub(r\"\\n\", \"\", text)\n",
        "\n",
        "def drop_special_carac(text):\n",
        "    \n",
        "    return re.sub(r\"[^a-zA-Z\\d\\s]\", \" \", text)\n",
        "\n",
        "def drop_extra_space(text):\n",
        "    \n",
        "    return re.sub(r\"s{2,}\", \" \", text)\n",
        "\n",
        "def remove_stop_words(text):\n",
        "    \n",
        "    text = word_tokenize(text)\n",
        "    text = \" \".join([word for word in text if not word in french_stopwords])\n",
        "    return text\n",
        "\n",
        "def lemmatize(text):\n",
        "    \n",
        "    text = nlp(text)\n",
        "    text = \" \".join([word.lemma_ for word in text])\n",
        "    return text\n",
        "\n",
        "def drop_double_space(text):\n",
        "    return re.sub(' +', ' ', text)\n",
        "\n",
        "def drop_single_char(text):\n",
        "    return re.sub('(\\\\b[A-Za-z] \\\\b|\\\\b [A-Za-z]\\\\b)', '', text)\n",
        "\n",
        "def drop_brackets(text):\n",
        "    return re.sub(r\"\\[(.*?)\\]\", \"\", text)\n",
        "\n",
        "# =============================================================================\n",
        "\n",
        "# Wrapper \n",
        "\n",
        "def processing1(text):\n",
        "    \n",
        "    text = remove_accents(text)\n",
        "    text = lower_letters(text)\n",
        "    text = drop_slash_n(text)\n",
        "    text = drop_special_carac(text)\n",
        "    text = drop_extra_space(text)\n",
        "    text = remove_stop_words(text)\n",
        "    text = lemmatize(text)\n",
        "    \n",
        "    return text\n",
        "\n",
        "def processing2(text):\n",
        "    \n",
        "    text = remove_accents(text)\n",
        "    text = lower_letters(text)\n",
        "    text = drop_slash_n(text)\n",
        "    text = drop_special_carac(text)\n",
        "    text = remove_stop_words(text)\n",
        "    text = lemmatize(text)\n",
        "     \n",
        "    return text\n",
        "\n",
        "def processing3(text):\n",
        "    \n",
        "    text = lower_letters(text)\n",
        "    text = remove_accents(text)\n",
        "    text = remove_stop_words(text)\n",
        "    text = drop_slash_n(text)\n",
        "    text = drop_special_carac(text)\n",
        "    text = lemmatize(text)\n",
        "    \n",
        "    return text\n",
        "\n",
        "def processing4(text):\n",
        "    \n",
        "    text = remove_accents(text)\n",
        "    text = lower_letters(text)\n",
        "    text = drop_slash_n(text)\n",
        "    \n",
        "    return text\n",
        "\n",
        "def processing5(text):\n",
        "    \n",
        "    text = lower_letters(text)\n",
        "    text = remove_stop_words(text)\n",
        "    text = remove_accents(text)\n",
        "    text = drop_slash_n(text)\n",
        "    text = drop_special_carac(text)\n",
        "    text = lemmatize(text)\n",
        "    \n",
        "    return text\n",
        "\n",
        "def processing6(text):\n",
        "    \n",
        "    text = lower_letters(text)\n",
        "    text = lemmatize(text)\n",
        "    text = remove_stop_words(text)\n",
        "    text = remove_accents(text)\n",
        "    text = drop_slash_n(text)\n",
        "    text = drop_special_carac(text)\n",
        "\n",
        "def processing7(text):\n",
        "    text = drop_brackets(text)\n",
        "    text = lower_letters(text)\n",
        "    text = remove_stop_words(text)\n",
        "    text = remove_accents(text)\n",
        "    text = drop_slash_n(text)\n",
        "    text = drop_special_carac(text)\n",
        "    text = drop_double_space(text)\n",
        "    text = drop_single_char(text)\n",
        "    \n",
        "    return text"
      ],
      "execution_count": null,
      "outputs": []
    },
    {
      "cell_type": "code",
      "metadata": {
        "colab": {
          "base_uri": "https://localhost:8080/",
          "height": 145
        },
        "id": "Moi2IboVCBa6",
        "outputId": "2a6a8437-61ca-4666-8af2-bb11638ddc54"
      },
      "source": [
        "df2 = df\n",
        "df2[\"abstract_fr\"][0]"
      ],
      "execution_count": null,
      "outputs": [
        {
          "output_type": "execute_result",
          "data": {
            "application/vnd.google.colaboratory.intrinsic+json": {
              "type": "string"
            },
            "text/plain": [
              "'\\nNous considérons dans notre travail la tâche du traitement automatique visant à construire, à partir de textes issus d\\'un corpus de constats d\\'accidents de la route, des interprétations compatibles avec ces derniers, et à en proposer des illustrations sous forme de séquences d\\'images fixes. Notre recherche est le fruit d\\'une collaboration entre un laboratoire universitaire et une entreprise. Elle prend appui sur le modèle de la Grammaire Applicative et Cognitive [DES 90], qui vise en particulier à \"expliquer\", à un certain niveau cognitif, les transferts entre représentations imagées et verbales. Pour une revue de la question relative à la \"transcription automatique Verbal-Image\", nous renvoyons à [ARN 90] ; et plus particulièrement aux travaux de C. Vandeloise [VAN 87] et du groupe \"Langue, Raisonnement, Calcul\" de l\\'Université Paul Sabatier [AUR 90, SAB 95] ainsi qu\\'aux approches proposées dans [ARN 93] et dans le système SPRINT [YAM 92]. Plus proches encore de nos préoccupations, B. Victorri et P. Enjalbert [ENJ 94, POI 95] posent le problème de l\\'animation visuelle issue de l\\'interprétation de textes. Nous présentons dans cet article, à travers le traitement d\\'un exemple, la méthode générale d\\'analyse que nous avons adoptée, qui s\\'appuie en priorité sur des connaissances linguistiques. Le texte pris comme exemple est le suivant : Je roulais sur la partie droite de la chaussée quand un véhicule arrivant dans le virage a été complètement déporté. Serrant à droite au maximum, je n\\'ai [pu] éviter la voiture [qui arrivait à grande vitesse]. Nous ne traitons pas ici la modalité introduite par pu , de même que la relative qui arrivait à grande vitesse. Dans la première partie de l\\'article, nous présentons l\\'architecture globale du système informatique. Dans la deuxième partie, nous proposons des éléments d\\'analyse pour une solution opératoire aux problèmes d\\'articulation des significations lexicales et grammaticales, sous forme d\\'une segmentation du texte en différentes phases spatio-temporelles. Dans la troisième partie, nous présentons une modélisation des lieux de circulation et du mouvement des véhicules garantissant le passage à l\\'image.\\n'"
            ]
          },
          "metadata": {
            "tags": []
          },
          "execution_count": 13
        }
      ]
    },
    {
      "cell_type": "code",
      "metadata": {
        "id": "pypkthkgwY5k"
      },
      "source": [
        "df[\"abstract_fr_proc_1\"] = df.apply(lambda x: processing1(x[\"abstract_fr\"]), axis=1)\n",
        "df[\"abstract_fr_proc_2\"] = df.apply(lambda x: processing2(x[\"abstract_fr\"]), axis=1)\n",
        "df[\"abstract_fr_proc_3\"] = df.apply(lambda x: processing3(x[\"abstract_fr\"]), axis=1)\n",
        "df[\"abstract_fr_proc_4\"] = df.apply(lambda x: processing4(x[\"abstract_fr\"]), axis=1)\n",
        "df[\"abstract_fr_proc_5\"] = df.apply(lambda x: processing5(x[\"abstract_fr\"]), axis=1)\n",
        "df[\"abstract_fr_proc_6\"] = df.apply(lambda x: processing6(x[\"abstract_fr\"]), axis=1)"
      ],
      "execution_count": null,
      "outputs": []
    },
    {
      "cell_type": "code",
      "metadata": {
        "colab": {
          "base_uri": "https://localhost:8080/",
          "height": 308
        },
        "id": "b0K092CABx6q",
        "outputId": "05dc1221-6426-432d-f25d-f83cbe8ae07c"
      },
      "source": [
        "df[\"abstract_fr\"][0]\n"
      ],
      "execution_count": null,
      "outputs": [
        {
          "output_type": "execute_result",
          "data": {
            "application/vnd.google.colaboratory.intrinsic+json": {
              "type": "string"
            },
            "text/plain": [
              "'\\nNous considérons dans notre travail la tâche du traitement automatique visant à construire, à partir de textes issus d\\'un corpus de constats d\\'accidents de la route, des interprétations compatibles avec ces derniers, et à en proposer des illustrations sous forme de séquences d\\'images fixes. Notre recherche est le fruit d\\'une collaboration entre un laboratoire universitaire et une entreprise. Elle prend appui sur le modèle de la Grammaire Applicative et Cognitive [DES 90], qui vise en particulier à \"expliquer\", à un certain niveau cognitif, les transferts entre représentations imagées et verbales. Pour une revue de la question relative à la \"transcription automatique Verbal-Image\", nous renvoyons à [ARN 90] ; et plus particulièrement aux travaux de C. Vandeloise [VAN 87] et du groupe \"Langue, Raisonnement, Calcul\" de l\\'Université Paul Sabatier [AUR 90, SAB 95] ainsi qu\\'aux approches proposées dans [ARN 93] et dans le système SPRINT [YAM 92]. Plus proches encore de nos préoccupations, B. Victorri et P. Enjalbert [ENJ 94, POI 95] posent le problème de l\\'animation visuelle issue de l\\'interprétation de textes. Nous présentons dans cet article, à travers le traitement d\\'un exemple, la méthode générale d\\'analyse que nous avons adoptée, qui s\\'appuie en priorité sur des connaissances linguistiques. Le texte pris comme exemple est le suivant : Je roulais sur la partie droite de la chaussée quand un véhicule arrivant dans le virage a été complètement déporté. Serrant à droite au maximum, je n\\'ai [pu] éviter la voiture [qui arrivait à grande vitesse]. Nous ne traitons pas ici la modalité introduite par pu , de même que la relative qui arrivait à grande vitesse. Dans la première partie de l\\'article, nous présentons l\\'architecture globale du système informatique. Dans la deuxième partie, nous proposons des éléments d\\'analyse pour une solution opératoire aux problèmes d\\'articulation des significations lexicales et grammaticales, sous forme d\\'une segmentation du texte en différentes phases spatio-temporelles. Dans la troisième partie, nous présentons une modélisation des lieux de circulation et du mouvement des véhicules garantissant le passage à l\\'image.\\n'"
            ]
          },
          "metadata": {
            "tags": []
          },
          "execution_count": 15
        }
      ]
    },
    {
      "cell_type": "code",
      "metadata": {
        "id": "3A-HoF_kvNP7"
      },
      "source": [
        "df[\"abstract_fr_proc_6\"] = df.apply(lambda x: processing7(x[\"abstract_fr\"]), axis=1)"
      ],
      "execution_count": null,
      "outputs": []
    },
    {
      "cell_type": "code",
      "metadata": {
        "colab": {
          "base_uri": "https://localhost:8080/",
          "height": 235
        },
        "id": "Us5Yez_SsgNb",
        "outputId": "37ac8a5a-b93c-4d7f-f1d9-03d9709035ee"
      },
      "source": [
        "df[\"abstract_fr_proc_6\"][0]"
      ],
      "execution_count": null,
      "outputs": [
        {
          "output_type": "execute_result",
          "data": {
            "application/vnd.google.colaboratory.intrinsic+json": {
              "type": "string"
            },
            "text/plain": [
              "'considerons travail tache traitement automatique visant construire partir textes issus un corpus constats accidents route interpretations compatibles derniers proposer illustrations sous forme sequences images fixes recherche fruit une collaboration entre laboratoire universitaire entreprise prend appui modele grammaire applicative cognitive 90 vise particulier expliquer certain niveau cognitif transferts entre representations imagees verbales revue question relative transcription automatique verbal image renvoyons arn 90 plus particulierement travaux vandeloise van 87 groupe langue raisonnement calcul universite paul sabatier aur 90 sab 95 ainsi qu aux approches proposees arn 93 systeme sprint yam 92 plus proches encore preoccupations victorri enjalbert enj 94 poi 95 posent probleme animation visuelle issue interpretation textes presentons cet article travers traitement un exemple methode generale analyse adoptee appuie priorite connaissances linguistiques texte pris comme exemple suivant roulais partie droite chaussee quand vehicule arrivant virage completement deporte serrant droite maximum ai pu eviter voiture arrivait grande vitesse traitons ici modalite introduite pu relative arrivait grande vitesse premiere partie article presentons architecture globale systeme informatique deuxieme partie proposons elements analyse solution operatoire problemes articulation significations lexicales grammaticales sous forme une segmentation texte differentes phases spatio temporelles troisieme partie presentons modelisation lieux circulation mouvement vehicules garantissant passage image '"
            ]
          },
          "metadata": {
            "tags": []
          },
          "execution_count": 43
        }
      ]
    },
    {
      "cell_type": "code",
      "metadata": {
        "id": "65r8WWAk1hvw"
      },
      "source": [
        "test = word_tokenize(df[\"abstract_fr\"][0])\n",
        "test"
      ],
      "execution_count": null,
      "outputs": []
    },
    {
      "cell_type": "code",
      "metadata": {
        "id": "d8GBL6YC1pX_"
      },
      "source": [
        "from nltk.probability import FreqDist\n",
        "fdist = FreqDist()"
      ],
      "execution_count": null,
      "outputs": []
    },
    {
      "cell_type": "code",
      "metadata": {
        "id": "XDw0zkRY1034"
      },
      "source": [
        "for word in test:\n",
        "  fdist[word]+=1\n",
        "fdist\n",
        "# Il faut retire les chiffres et les a"
      ],
      "execution_count": null,
      "outputs": []
    },
    {
      "cell_type": "code",
      "metadata": {
        "colab": {
          "base_uri": "https://localhost:8080/"
        },
        "id": "s75UiS9q2HPO",
        "outputId": "8b21bd17-4b1e-4814-e408-dce5e1e2f024"
      },
      "source": [
        "len(fdist)"
      ],
      "execution_count": null,
      "outputs": [
        {
          "output_type": "execute_result",
          "data": {
            "text/plain": [
              "171"
            ]
          },
          "metadata": {
            "tags": []
          },
          "execution_count": 36
        }
      ]
    },
    {
      "cell_type": "code",
      "metadata": {
        "colab": {
          "base_uri": "https://localhost:8080/"
        },
        "id": "fqQXHFe72OCb",
        "outputId": "69ba3ce5-1fec-4a0b-cd0d-06a51dc2b428"
      },
      "source": [
        "len(test)\n",
        "#On compare ici le nombres de mots qui apparaisent plusieurs fois"
      ],
      "execution_count": null,
      "outputs": [
        {
          "output_type": "execute_result",
          "data": {
            "text/plain": [
              "213"
            ]
          },
          "metadata": {
            "tags": []
          },
          "execution_count": 37
        }
      ]
    },
    {
      "cell_type": "code",
      "metadata": {
        "colab": {
          "base_uri": "https://localhost:8080/"
        },
        "id": "1BHfYbYH2ZVo",
        "outputId": "6dcc2190-9fc2-4665-d918-694050757bed"
      },
      "source": [
        "top20 = fdist.most_common(20)\n",
        "top20\n"
      ],
      "execution_count": null,
      "outputs": [
        {
          "output_type": "execute_result",
          "data": {
            "text/plain": [
              "[('a', 13),\n",
              " ('partie', 4),\n",
              " ('90', 3),\n",
              " ('presentons', 3),\n",
              " ('traitement', 2),\n",
              " ('automatique', 2),\n",
              " ('textes', 2),\n",
              " ('i', 2),\n",
              " ('sous', 2),\n",
              " ('forme', 2),\n",
              " ('entre', 2),\n",
              " ('relative', 2),\n",
              " ('image', 2),\n",
              " ('arn', 2),\n",
              " ('plus', 2),\n",
              " ('95', 2),\n",
              " ('systeme', 2),\n",
              " ('article', 2),\n",
              " ('exemple', 2),\n",
              " ('analyse', 2)]"
            ]
          },
          "metadata": {
            "tags": []
          },
          "execution_count": 38
        }
      ]
    },
    {
      "cell_type": "code",
      "metadata": {
        "colab": {
          "base_uri": "https://localhost:8080/"
        },
        "id": "RStxH4lTDqym",
        "outputId": "836c73cb-17bf-47c0-9d7b-8d5ba2643112"
      },
      "source": [
        "tokenizer=nltk.data.load('tokenizers/punkt/english.pickle')\n",
        "text = df[\"abstract_fr\"][0]\n",
        "tokenizer.tokenize(text)"
      ],
      "execution_count": null,
      "outputs": [
        {
          "output_type": "execute_result",
          "data": {
            "text/plain": [
              "['considerons travail tache traitement automatique visant a construire a partir textes i us corpus constats accidents route interpretations compatibles derniers a proposer illustrations sous forme sequences images fixes recherche fruit collaboration entre laboratoire universitaire entreprise prend appui modele grammaire applicative cognitive 90 vise particulier a expliquer a certain niveau cognitif transferts entre representations imagees verbales revue question relative a transcription automatique verbal image renvoyons a arn 90 plus particulierement travaux vandeloise van 87 groupe langue raisonnement calcul universite paul sabatier aur 90 sab 95 ainsi approches proposees arn 93 systeme sprint yam 92 plus proches encore preoccupations b victorri p enjalbert enj 94 poi 95 posent probleme animation visuelle i ue interpretation textes presentons cet article a travers traitement exemple methode generale analyse adoptee appuie priorite connai ances linguistiques texte pris comme exemple suivant roulais partie droite chau ee quand vehicule arrivant virage a ete completement deporte serrant a droite maximum pu eviter voiture arrivait a grande vite e traitons ici modalite introduite pu meme relative arrivait a grande vite e premiere partie article presentons architecture globale systeme informatique deuxieme partie proposons elements analyse solution operatoire problemes articulation significations lexicales grammaticales sous forme segmentation texte differentes phases spatio temporelles troisieme partie presentons modelisation lieux circulation mouvement vehicules garanti ant pa age a image']"
            ]
          },
          "metadata": {
            "tags": []
          },
          "execution_count": 48
        }
      ]
    },
    {
      "cell_type": "code",
      "metadata": {
        "colab": {
          "base_uri": "https://localhost:8080/",
          "height": 199
        },
        "id": "lAZTpAcdE5ki",
        "outputId": "87817bf0-e39c-49bd-8a6b-2eb9cf9a4435"
      },
      "source": [
        "test_drop = df[\"abstract_fr\"][0]\n",
        "df[\"abstract_fr\"][0]\n",
        "test_drop"
      ],
      "execution_count": null,
      "outputs": [
        {
          "output_type": "execute_result",
          "data": {
            "application/vnd.google.colaboratory.intrinsic+json": {
              "type": "string"
            },
            "text/plain": [
              "'considerons travail tache traitement automatique visant a construire a partir textes issus corpus constats accidents route interpretations compatibles derniers a proposer illustrations sous forme sequences images fixes recherche fruit collaboration entre laboratoire universitaire entreprise prend appui modele grammaire applicative cognitive 90 vise particulier a expliquer a certain niveau cognitif transferts entre representations imagees verbales revue question relative a transcription automatique verbal image renvoyons a arn 90 plus particulierement travaux vandeloise van 87 groupe langue raisonnement calcul universite paul sabatier aur 90 sab 95 ainsi approches proposees arn 93 systeme sprint yam 92 plus proches encore preoccupations b victorri p enjalbert enj 94 poi 95 posent probleme animation visuelle issue interpretation textes presentons cet article a travers traitement exemple methode generale analyse adoptee appuie priorite connaissances linguistiques texte pris comme exemple suivant roulais partie droite chaussee quand vehicule arrivant virage a ete completement deporte serrant a droite maximum pu eviter voiture arrivait a grande vitesse traitons ici modalite introduite pu meme relative arrivait a grande vitesse premiere partie article presentons architecture globale systeme informatique deuxieme partie proposons elements analyse solution operatoire problemes articulation significations lexicales grammaticales sous forme segmentation texte differentes phases spatio temporelles troisieme partie presentons modelisation lieux circulation mouvement vehicules garantissant passage a image'"
            ]
          },
          "metadata": {
            "tags": []
          },
          "execution_count": 65
        }
      ]
    },
    {
      "cell_type": "code",
      "metadata": {
        "id": "P5ux1r8uFC77"
      },
      "source": [
        "test_drop = re.sub(r'  ', \" \", test_drop)\n",
        "test_drop"
      ],
      "execution_count": null,
      "outputs": []
    },
    {
      "cell_type": "code",
      "metadata": {
        "id": "a7Y8TCfHF71u"
      },
      "source": [
        "from nltk.util import bigrams, trigrams, ngrams\n"
      ],
      "execution_count": null,
      "outputs": []
    },
    {
      "cell_type": "code",
      "metadata": {
        "id": "X3oSFobEGFe1"
      },
      "source": [
        ""
      ],
      "execution_count": null,
      "outputs": []
    },
    {
      "cell_type": "code",
      "metadata": {
        "id": "kBQFkYs9KgjY",
        "colab": {
          "base_uri": "https://localhost:8080/"
        },
        "outputId": "f5a546a9-616c-442a-c4c8-72ee8c5b911b"
      },
      "source": [
        "#JL\n",
        "df.columns"
      ],
      "execution_count": null,
      "outputs": [
        {
          "output_type": "execute_result",
          "data": {
            "text/plain": [
              "Index(['title', 'author_name_0', 'author_name_1', 'author_email_0',\n",
              "       'author_email_1', 'publication_place', 'publication_date',\n",
              "       'editor_name', 'monogr_title', 'monogr_date', 'abstract_fr',\n",
              "       'abstract_eng', 'keywords_fr', 'keywords_eng', 'text', 'author_name_2',\n",
              "       'author_email_2', 'author_name_3', 'author_name_4', 'author_name_5',\n",
              "       'author_email_3', 'author_email_4', 'author_email_5', 'author_name_6',\n",
              "       'author_name_7', 'author_email_6', 'author_email_7', 'author_name_8',\n",
              "       'author_name_9', 'author_email_8', 'author_email_9'],\n",
              "      dtype='object')"
            ]
          },
          "metadata": {
            "tags": []
          },
          "execution_count": 10
        }
      ]
    },
    {
      "cell_type": "code",
      "metadata": {
        "id": "UT9cyDPr1oqo",
        "colab": {
          "base_uri": "https://localhost:8080/"
        },
        "outputId": "2cfcd33a-a02d-4ca8-9932-9cf75373727d"
      },
      "source": [
        "df.shape"
      ],
      "execution_count": null,
      "outputs": [
        {
          "output_type": "execute_result",
          "data": {
            "text/plain": [
              "(844, 51)"
            ]
          },
          "metadata": {
            "tags": []
          },
          "execution_count": 207
        }
      ]
    },
    {
      "cell_type": "code",
      "metadata": {
        "colab": {
          "base_uri": "https://localhost:8080/"
        },
        "id": "cKJpa5gYNGx8",
        "outputId": "b3d09046-c4a9-47ea-fafa-bb39f2130b75"
      },
      "source": [
        "df[df[\"abstract_fr\"] != 'None'].count()[0]"
      ],
      "execution_count": null,
      "outputs": [
        {
          "output_type": "execute_result",
          "data": {
            "text/plain": [
              "803"
            ]
          },
          "metadata": {
            "tags": []
          },
          "execution_count": 203
        }
      ]
    },
    {
      "cell_type": "code",
      "metadata": {
        "id": "-f0mYyErNj5y",
        "colab": {
          "base_uri": "https://localhost:8080/"
        },
        "outputId": "53594554-8ea7-4fc8-e358-2d941f27170d"
      },
      "source": [
        "df[df[\"abstract_eng\"] != 'None'].count()[0]\n",
        "#Il y 352 abstract en englais\n",
        "#399 en francais\n",
        "#Le corpus contient 430 textes"
      ],
      "execution_count": null,
      "outputs": [
        {
          "output_type": "execute_result",
          "data": {
            "text/plain": [
              "755"
            ]
          },
          "metadata": {
            "tags": []
          },
          "execution_count": 205
        }
      ]
    },
    {
      "cell_type": "code",
      "metadata": {
        "id": "d7HWk7vlNJs0"
      },
      "source": [
        "from nltk.tokenize import word_tokenize\n",
        "nltk.download('punkt')\n",
        "#Tous les text sont en français et il y a plus d'abstract en français, nous commencerons donc par un traitement sur le français\n",
        "#French tokennizer\n",
        "french_tokenizer=nltk.data.load('tokenizers/punkt/french.pickle')\n",
        "abstract_tokenizer = french_tokenizer.tokenize(df[\"abstract_fr\"][0])\n",
        "abstract_tokenizer[0]"
      ],
      "execution_count": null,
      "outputs": []
    },
    {
      "cell_type": "code",
      "metadata": {
        "id": "evxmaIhJP4JT"
      },
      "source": [
        "#Nous allons commencer avec les abstract fr \n",
        "#1ère étape : on tokennize (separer chaque abstract en phrase)\n",
        "abstrac_fr_tokens = []\n",
        "for i in df[\"abstract_fr\"]:\n",
        "  abstrac_fr_tokens.append(french_tokenizer.tokenize(i))\n"
      ],
      "execution_count": null,
      "outputs": []
    },
    {
      "cell_type": "code",
      "metadata": {
        "id": "GEpYi9N_SnV7"
      },
      "source": [
        "#Clean : mettre tout en minuscule et on retire les /n\n",
        "for i in range(len(abstrac_fr_tokens)):\n",
        "  abstrac_fr_tokens[i] = [token.lower() for token in abstrac_fr_tokens[i]] # minuscule\n",
        "  abstrac_fr_tokens[i] = [token.replace('\\n','') for token in abstrac_fr_tokens[i]] #/n\n",
        "    \n",
        "abstrac_fr_tokens[10]"
      ],
      "execution_count": null,
      "outputs": []
    },
    {
      "cell_type": "code",
      "metadata": {
        "id": "SPM_ReUsUJw0"
      },
      "source": [
        "test"
      ],
      "execution_count": null,
      "outputs": []
    },
    {
      "cell_type": "code",
      "metadata": {
        "id": "UVnrocjtGN20"
      },
      "source": [
        "bigrams = list(nltk.bigrams(test))\n",
        "bigrams"
      ],
      "execution_count": null,
      "outputs": []
    },
    {
      "cell_type": "code",
      "metadata": {
        "id": "W4_b8Pe-GaSD"
      },
      "source": [
        "trigrams = list(nltk.trigrams(test))\n",
        "trigrams"
      ],
      "execution_count": null,
      "outputs": []
    },
    {
      "cell_type": "code",
      "metadata": {
        "id": "mJ_j1dXiGe2R"
      },
      "source": [
        "ngrams = list(nltk.ngrams(test,5))\n",
        "ngrams"
      ],
      "execution_count": null,
      "outputs": []
    },
    {
      "cell_type": "code",
      "metadata": {
        "id": "Frk3E-9qGr1I"
      },
      "source": [
        "#On lemmatize tard à ce moment même : WordNetLemmatizer\n",
        "#Il peut etre bien de faire les freqlist avant une partie des traitements\n",
        "#Nouveau plan:\n",
        "#retire accent, minuscule, \\n, double espace  -> Tokenize -> word tokenizer -> puis freqlist -> stopwords et lemmatization"
      ],
      "execution_count": null,
      "outputs": []
    },
    {
      "cell_type": "code",
      "metadata": {
        "id": "WIO3Ro7CSBGt"
      },
      "source": [
        "#Tokennizer sur les mots\n",
        "tokens = word_tokenize(df_abstrac_fr_tokens[0][0])\n",
        "tokens"
      ],
      "execution_count": null,
      "outputs": []
    },
    {
      "cell_type": "code",
      "metadata": {
        "id": "LlrVShvCYjxL"
      },
      "source": [
        "#French stopwords\n",
        "nltk.download('stopwords')\n",
        "from nltk.corpus import stopwords\n",
        "french_stopwords = set(stopwords.words('french'))\n",
        "french_stopwords"
      ],
      "execution_count": null,
      "outputs": []
    },
    {
      "cell_type": "code",
      "metadata": {
        "colab": {
          "base_uri": "https://localhost:8080/",
          "height": 35
        },
        "id": "m_GV3_8WcFqY",
        "outputId": "fbb92cf5-bcc8-4634-fca1-046e010a04fc"
      },
      "source": [
        "#Avant de supprimer les stopwords on doit wordtokenizer\n",
        "#abstrac_fr_tokens[0][0] à wordtokenizer"
      ],
      "execution_count": null,
      "outputs": [
        {
          "output_type": "execute_result",
          "data": {
            "application/vnd.google.colaboratory.intrinsic+json": {
              "type": "string"
            },
            "text/plain": [
              "'n'"
            ]
          },
          "metadata": {
            "tags": []
          },
          "execution_count": 88
        }
      ]
    },
    {
      "cell_type": "code",
      "metadata": {
        "id": "ic4TUcnhJbeT",
        "colab": {
          "base_uri": "https://localhost:8080/"
        },
        "outputId": "3c527a4d-baf1-4e18-be94-0f2bbdc05428"
      },
      "source": [
        "text = df[\"abstract_fr_proc_6\"][0]\n",
        "import nltk\n",
        "from nltk.tag.stanford import StanfordPOSTagger\n",
        "\n",
        "pos_tagger = StanfordPOSTagger(\"french-ud.tagger\", \"stanford-postagger.jar\",encoding='utf8') #instance de la classe StanfordPOSTagger en UTF-8\n",
        "def pos_tag(sentence):\n",
        "    tokens = nltk.word_tokenize(sentence) #je transforme la phrase en tokens => si vous avez un texte avec plusieurs phrases, passez d'abord par nltk pour récupérer les phrases\n",
        "    tags = pos_tagger.tag(tokens) #lance le tagging\n",
        "    return tags\n",
        "print(pos_tag(text))"
      ],
      "execution_count": null,
      "outputs": [
        {
          "output_type": "stream",
          "text": [
            "/usr/local/lib/python3.6/dist-packages/nltk/tag/stanford.py:149: DeprecationWarning: \n",
            "The StanfordTokenizer will be deprecated in version 3.2.5.\n",
            "Please use \u001b[91mnltk.tag.corenlp.CoreNLPPOSTagger\u001b[0m or \u001b[91mnltk.tag.corenlp.CoreNLPNERTagger\u001b[0m instead.\n",
            "  super(StanfordPOSTagger, self).__init__(*args, **kwargs)\n"
          ],
          "name": "stderr"
        },
        {
          "output_type": "stream",
          "text": [
            "[('considerons', 'NOUN'), ('travail', 'NOUN'), ('tache', 'NOUN'), ('traitement', 'NOUN'), ('automatique', 'ADJ'), ('visant', 'VERB'), ('construire', 'VERB'), ('partir', 'VERB'), ('textes', 'NOUN'), ('issus', 'ADJ'), ('un', 'DET'), ('corpus', 'NOUN'), ('constats', 'NOUN'), ('accidents', 'NOUN'), ('route', 'NOUN'), ('interpretations', 'NOUN'), ('compatibles', 'ADJ'), ('derniers', 'ADJ'), ('proposer', 'VERB'), ('illustrations', 'NOUN'), ('sous', 'ADP'), ('forme', 'NOUN'), ('sequences', 'ADJ'), ('images', 'NOUN'), ('fixes', 'ADJ'), ('recherche', 'VERB'), ('fruit', 'NOUN'), ('une', 'DET'), ('collaboration', 'NOUN'), ('entre', 'ADP'), ('laboratoire', 'NOUN'), ('universitaire', 'ADJ'), ('entreprise', 'VERB'), ('prend', 'VERB'), ('appui', 'NOUN'), ('modele', 'ADJ'), ('grammaire', 'NOUN'), ('applicative', 'ADJ'), ('cognitive', 'ADJ'), ('90', 'NUM'), ('vise', 'VERB'), ('particulier', 'ADJ'), ('expliquer', 'VERB'), ('certain', 'ADJ'), ('niveau', 'NOUN'), ('cognitif', 'ADJ'), ('transferts', 'VERB'), ('entre', 'ADP'), ('representations', 'NOUN'), ('imagees', 'ADJ'), ('verbales', 'ADJ'), ('revue', 'NOUN'), ('question', 'NOUN'), ('relative', 'ADJ'), ('transcription', 'NOUN'), ('automatique', 'ADJ'), ('verbal', 'ADJ'), ('image', 'NOUN'), ('renvoyons', 'VERB'), ('arn', 'X'), ('90', 'NUM'), ('plus', 'ADV'), ('particulierement', 'ADV'), ('travaux', 'NOUN'), ('vandeloise', 'ADJ'), ('van', 'ADP'), ('87', 'NUM'), ('groupe', 'NOUN'), ('langue', 'NOUN'), ('raisonnement', 'NOUN'), ('calcul', 'NOUN'), ('universite', 'ADJ'), ('paul', 'ADJ'), ('sabatier', 'NOUN'), ('aur', 'ADP'), ('90', 'NUM'), ('sab', 'NOUN'), ('95', 'NUM'), ('ainsi', 'ADV'), ('qu', 'SCONJ'), ('aux', 'X'), ('approches', 'NOUN'), ('proposees', 'ADJ'), ('arn', 'ADJ'), ('93', 'NUM'), ('systeme', 'ADJ'), ('sprint', 'NOUN'), ('yam', 'SYM'), ('92', 'NUM'), ('plus', 'ADV'), ('proches', 'ADJ'), ('encore', 'ADV'), ('preoccupations', 'NOUN'), ('victorri', 'ADJ'), ('enjalbert', 'ADJ'), ('enj', 'X'), ('94', 'NUM'), ('poi', 'NOUN'), ('95', 'NUM'), ('posent', 'VERB'), ('probleme', 'ADJ'), ('animation', 'NOUN'), ('visuelle', 'ADJ'), ('issue', 'ADJ'), ('interpretation', 'NOUN'), ('textes', 'NOUN'), ('presentons', 'VERB'), ('cet', 'DET'), ('article', 'NOUN'), ('travers', 'NOUN'), ('traitement', 'NOUN'), ('un', 'DET'), ('exemple', 'NOUN'), ('methode', 'ADJ'), ('generale', 'ADJ'), ('analyse', 'NOUN'), ('adoptee', 'ADJ'), ('appuie', 'VERB'), ('priorite', 'ADJ'), ('connaissances', 'NOUN'), ('linguistiques', 'ADJ'), ('texte', 'NOUN'), ('pris', 'VERB'), ('comme', 'ADP'), ('exemple', 'NOUN'), ('suivant', 'ADJ'), ('roulais', 'ADJ'), ('partie', 'NOUN'), ('droite', 'ADJ'), ('chaussee', 'ADJ'), ('quand', 'ADV'), ('vehicule', 'ADJ'), ('arrivant', 'VERB'), ('virage', 'NOUN'), ('completement', 'ADV'), ('deporte', 'ADJ'), ('serrant', 'NOUN'), ('droite', 'ADJ'), ('maximum', 'ADJ'), ('ai', 'AUX'), ('pu', 'VERB'), ('eviter', 'VERB'), ('voiture', 'NOUN'), ('arrivait', 'VERB'), ('grande', 'ADJ'), ('vitesse', 'NOUN'), ('traitons', 'VERB'), ('ici', 'ADV'), ('modalite', 'VERB'), ('introduite', 'VERB'), ('pu', 'VERB'), ('relative', 'ADJ'), ('arrivait', 'VERB'), ('grande', 'ADJ'), ('vitesse', 'NOUN'), ('premiere', 'VERB'), ('partie', 'NOUN'), ('article', 'NOUN'), ('presentons', 'NOUN'), ('architecture', 'NOUN'), ('globale', 'ADJ'), ('systeme', 'ADJ'), ('informatique', 'ADJ'), ('deuxieme', 'ADJ'), ('partie', 'NOUN'), ('proposons', 'VERB'), ('elements', 'ADJ'), ('analyse', 'NOUN'), ('solution', 'NOUN'), ('operatoire', 'ADJ'), ('problemes', 'ADJ'), ('articulation', 'NOUN'), ('significations', 'NOUN'), ('lexicales', 'ADJ'), ('grammaticales', 'ADJ'), ('sous', 'ADP'), ('forme', 'NOUN'), ('une', 'DET'), ('segmentation', 'NOUN'), ('texte', 'NOUN'), ('differentes', 'ADJ'), ('phases', 'NOUN'), ('spatio', 'ADJ'), ('temporelles', 'ADJ'), ('troisieme', 'ADJ'), ('partie', 'NOUN'), ('presentons', 'NOUN'), ('modelisation', 'NOUN'), ('lieux', 'NOUN'), ('circulation', 'NOUN'), ('mouvement', 'NOUN'), ('vehicules', 'ADJ'), ('garantissant', 'VERB'), ('passage', 'NOUN'), ('image', 'NOUN')]\n"
          ],
          "name": "stdout"
        }
      ]
    },
    {
      "cell_type": "code",
      "metadata": {
        "id": "Jy_3pmd12Gkm"
      },
      "source": [
        "Part_of_speech = pos_tag(text)\n",
        "Part_of_speech"
      ],
      "execution_count": null,
      "outputs": []
    },
    {
      "cell_type": "code",
      "metadata": {
        "colab": {
          "base_uri": "https://localhost:8080/",
          "height": 100
        },
        "id": "UnNjCSMyGZF3",
        "outputId": "912df473-a32c-4327-a2c5-c6a464d33aba"
      },
      "source": [
        "text"
      ],
      "execution_count": null,
      "outputs": [
        {
          "output_type": "execute_result",
          "data": {
            "application/vnd.google.colaboratory.intrinsic+json": {
              "type": "string"
            },
            "text/plain": [
              "'considerons travail tache traitement automatique visant construire partir textes issus un corpus constats accidents route interpretations compatibles derniers proposer illustrations sous forme sequences images fixes recherche fruit une collaboration entre laboratoire universitaire entreprise prend appui modele grammaire applicative cognitive 90 vise particulier expliquer certain niveau cognitif transferts entre representations imagees verbales revue question relative transcription automatique verbal image renvoyons arn 90 plus particulierement travaux vandeloise van 87 groupe langue raisonnement calcul universite paul sabatier aur 90 sab 95 ainsi qu aux approches proposees arn 93 systeme sprint yam 92 plus proches encore preoccupations victorri enjalbert enj 94 poi 95 posent probleme animation visuelle issue interpretation textes presentons cet article travers traitement un exemple methode generale analyse adoptee appuie priorite connaissances linguistiques texte pris comme exemple suivant roulais partie droite chaussee quand vehicule arrivant virage completement deporte serrant droite maximum ai pu eviter voiture arrivait grande vitesse traitons ici modalite introduite pu relative arrivait grande vitesse premiere partie article presentons architecture globale systeme informatique deuxieme partie proposons elements analyse solution operatoire problemes articulation significations lexicales grammaticales sous forme une segmentation texte differentes phases spatio temporelles troisieme partie presentons modelisation lieux circulation mouvement vehicules garantissant passage image '"
            ]
          },
          "metadata": {
            "tags": []
          },
          "execution_count": 208
        }
      ]
    },
    {
      "cell_type": "code",
      "metadata": {
        "colab": {
          "base_uri": "https://localhost:8080/"
        },
        "id": "Cqfx8R-H2UB8",
        "outputId": "5b702184-34ff-42d5-9117-eb775291472e"
      },
      "source": [
        "from nltk.probability import FreqDist\n",
        "fdist = FreqDist()\n",
        "for word in Part_of_speech:\n",
        "  #print(word[1])\n",
        "  fdist[word[1]]+=1\n",
        "fdist"
      ],
      "execution_count": null,
      "outputs": [
        {
          "output_type": "execute_result",
          "data": {
            "text/plain": [
              "FreqDist({'ADJ': 60,\n",
              "          'ADP': 7,\n",
              "          'ADV': 8,\n",
              "          'AUX': 1,\n",
              "          'DET': 5,\n",
              "          'NOUN': 73,\n",
              "          'NUM': 9,\n",
              "          'SCONJ': 1,\n",
              "          'SYM': 1,\n",
              "          'VERB': 27,\n",
              "          'X': 3})"
            ]
          },
          "metadata": {
            "tags": []
          },
          "execution_count": 53
        }
      ]
    },
    {
      "cell_type": "code",
      "metadata": {
        "colab": {
          "base_uri": "https://localhost:8080/",
          "height": 355
        },
        "id": "ckwkCZAE3Hxq",
        "outputId": "6557f695-e46d-45e5-bae4-09ca67f2dd32"
      },
      "source": [
        "from matplotlib import pyplot as plt\n",
        "plt.figure(figsize=(20, 5))\n",
        "fdist.plot(100)"
      ],
      "execution_count": null,
      "outputs": [
        {
          "output_type": "display_data",
          "data": {
            "image/png": "[encoded data removed]",
            "text/plain": [
              "<Figure size 1440x360 with 1 Axes>"
            ]
          },
          "metadata": {
            "tags": [],
            "needs_background": "light"
          }
        }
      ]
    },
    {
      "cell_type": "code",
      "metadata": {
        "id": "28GjVuMc4ahs"
      },
      "source": [
        "tokenizer=nltk.data.load('tokenizers/punkt/english.pickle')\n",
        "text = df[\"abstract_fr_proc_6\"][0]\n",
        "text = tokenizer.tokenize(text)"
      ],
      "execution_count": null,
      "outputs": []
    },
    {
      "cell_type": "code",
      "metadata": {
        "id": "tG6TQOqy41JN"
      },
      "source": [
        "test = word_tokenize(df[\"abstract_fr_proc_6\"][0])\n",
        "test"
      ],
      "execution_count": null,
      "outputs": []
    },
    {
      "cell_type": "code",
      "metadata": {
        "id": "3tx1rGGg3tzU"
      },
      "source": [
        "bigrams = list(nltk.bigrams(test))\n",
        "bigrams"
      ],
      "execution_count": null,
      "outputs": []
    },
    {
      "cell_type": "code",
      "metadata": {
        "id": "xp8hSvCU3-f9"
      },
      "source": [
        "trigrams = list(nltk.trigrams(test))\n",
        "trigrams"
      ],
      "execution_count": null,
      "outputs": []
    },
    {
      "cell_type": "code",
      "metadata": {
        "id": "6mGTasTW5HRP"
      },
      "source": [
        "ngrams = list(nltk.ngrams(test,5))\n",
        "ngrams"
      ],
      "execution_count": null,
      "outputs": []
    },
    {
      "cell_type": "code",
      "metadata": {
        "colab": {
          "base_uri": "https://localhost:8080/"
        },
        "id": "u4JweOYD5Ljp",
        "outputId": "76a830b3-9315-4ff9-9daf-9d278799647e"
      },
      "source": [
        "bigram_series = pd.Series(bigrams).value_counts()[:10]\n",
        "bigram_series"
      ],
      "execution_count": null,
      "outputs": [
        {
          "output_type": "execute_result",
          "data": {
            "text/plain": [
              "(grande, vitesse)              2\n",
              "(sous, forme)                  2\n",
              "(arrivait, grande)             2\n",
              "(interpretation, textes)       1\n",
              "(particulierement, travaux)    1\n",
              "(methode, generale)            1\n",
              "(proches, encore)              1\n",
              "(enjalbert, enj)               1\n",
              "(textes, issus)                1\n",
              "(preoccupations, victorri)     1\n",
              "dtype: int64"
            ]
          },
          "metadata": {
            "tags": []
          },
          "execution_count": 78
        }
      ]
    },
    {
      "cell_type": "code",
      "metadata": {
        "colab": {
          "base_uri": "https://localhost:8080/",
          "height": 482
        },
        "id": "FFzA6yZH6Pxi",
        "outputId": "f3e8ec62-331b-4ec3-8f89-138b26ca171a"
      },
      "source": [
        "bigram_series.sort_values().plot.barh(color='blue', figsize=(12, 8))\n"
      ],
      "execution_count": null,
      "outputs": [
        {
          "output_type": "display_data",
          "data": {
            "image/png": "[encoded data removed]",
            "text/plain": [
              "<Figure size 864x576 with 1 Axes>"
            ]
          },
          "metadata": {
            "tags": [],
            "needs_background": "light"
          }
        }
      ]
    },
    {
      "cell_type": "code",
      "metadata": {
        "id": "EGLnA6EL62up"
      },
      "source": [
        "import pandas as pd\n",
        "from sklearn.feature_extraction.text import TfidfVectorizer\n",
        "test"
      ],
      "execution_count": null,
      "outputs": []
    },
    {
      "cell_type": "code",
      "metadata": {
        "colab": {
          "base_uri": "https://localhost:8080/"
        },
        "id": "LsdKpRbI9Yza",
        "outputId": "f78b5276-f9e8-4a1f-8715-cff527377e6c"
      },
      "source": [
        "tokenizer=nltk.data.load('tokenizers/punkt/english.pickle')\n",
        "text = df[\"abstract_fr_proc_6\"][0]\n",
        "test2 = tokenizer.tokenize(text)\n",
        "test2"
      ],
      "execution_count": null,
      "outputs": [
        {
          "output_type": "execute_result",
          "data": {
            "text/plain": [
              "['considerons travail tache traitement automatique visant construire partir textes issus un corpus constats accidents route interpretations compatibles derniers proposer illustrations sous forme sequences images fixes recherche fruit une collaboration entre laboratoire universitaire entreprise prend appui modele grammaire applicative cognitive 90 vise particulier expliquer certain niveau cognitif transferts entre representations imagees verbales revue question relative transcription automatique verbal image renvoyons arn 90 plus particulierement travaux vandeloise van 87 groupe langue raisonnement calcul universite paul sabatier aur 90 sab 95 ainsi qu aux approches proposees arn 93 systeme sprint yam 92 plus proches encore preoccupations victorri enjalbert enj 94 poi 95 posent probleme animation visuelle issue interpretation textes presentons cet article travers traitement un exemple methode generale analyse adoptee appuie priorite connaissances linguistiques texte pris comme exemple suivant roulais partie droite chaussee quand vehicule arrivant virage completement deporte serrant droite maximum ai pu eviter voiture arrivait grande vitesse traitons ici modalite introduite pu relative arrivait grande vitesse premiere partie article presentons architecture globale systeme informatique deuxieme partie proposons elements analyse solution operatoire problemes articulation significations lexicales grammaticales sous forme une segmentation texte differentes phases spatio temporelles troisieme partie presentons modelisation lieux circulation mouvement vehicules garantissant passage image']"
            ]
          },
          "metadata": {
            "tags": []
          },
          "execution_count": 124
        }
      ]
    },
    {
      "cell_type": "code",
      "metadata": {
        "id": "o2yBIWPfAZcJ"
      },
      "source": [
        "test3 = word_tokenize(df[\"abstract_fr_proc_6\"][0])\n",
        "test3"
      ],
      "execution_count": null,
      "outputs": []
    },
    {
      "cell_type": "code",
      "metadata": {
        "id": "UBoAzsqW7019"
      },
      "source": [
        "vectorizer = TfidfVectorizer()\n",
        "vectors = vectorizer.fit_transform(test3)\n",
        "feature_names = vectorizer.get_feature_names()\n",
        "\n",
        "df_test = pd.DataFrame(data = vectors.toarray(), columns=vectorizer.get_feature_names())\n",
        "\n"
      ],
      "execution_count": null,
      "outputs": []
    },
    {
      "cell_type": "code",
      "metadata": {
        "colab": {
          "base_uri": "https://localhost:8080/",
          "height": 411
        },
        "id": "e8lsLgNY77kh",
        "outputId": "78ee1ed8-cb09-42f7-953d-e6da893bbd81"
      },
      "source": [
        "df_test"
      ],
      "execution_count": null,
      "outputs": [
        {
          "output_type": "execute_result",
          "data": {
            "text/html": [
              "<div>\n",
              "<style scoped>\n",
              "    .dataframe tbody tr th:only-of-type {\n",
              "        vertical-align: middle;\n",
              "    }\n",
              "\n",
              "    .dataframe tbody tr th {\n",
              "        vertical-align: top;\n",
              "    }\n",
              "\n",
              "    .dataframe thead th {\n",
              "        text-align: right;\n",
              "    }\n",
              "</style>\n",
              "<table border=\"1\" class=\"dataframe\">\n",
              "  <thead>\n",
              "    <tr style=\"text-align: right;\">\n",
              "      <th></th>\n",
              "      <th>87</th>\n",
              "      <th>90</th>\n",
              "      <th>92</th>\n",
              "      <th>93</th>\n",
              "      <th>94</th>\n",
              "      <th>95</th>\n",
              "      <th>accidents</th>\n",
              "      <th>adoptee</th>\n",
              "      <th>ai</th>\n",
              "      <th>ainsi</th>\n",
              "      <th>analyse</th>\n",
              "      <th>animation</th>\n",
              "      <th>applicative</th>\n",
              "      <th>approches</th>\n",
              "      <th>appui</th>\n",
              "      <th>appuie</th>\n",
              "      <th>architecture</th>\n",
              "      <th>arn</th>\n",
              "      <th>arrivait</th>\n",
              "      <th>arrivant</th>\n",
              "      <th>article</th>\n",
              "      <th>articulation</th>\n",
              "      <th>aur</th>\n",
              "      <th>automatique</th>\n",
              "      <th>aux</th>\n",
              "      <th>calcul</th>\n",
              "      <th>certain</th>\n",
              "      <th>cet</th>\n",
              "      <th>chaussee</th>\n",
              "      <th>circulation</th>\n",
              "      <th>cognitif</th>\n",
              "      <th>cognitive</th>\n",
              "      <th>collaboration</th>\n",
              "      <th>comme</th>\n",
              "      <th>compatibles</th>\n",
              "      <th>completement</th>\n",
              "      <th>connaissances</th>\n",
              "      <th>considerons</th>\n",
              "      <th>constats</th>\n",
              "      <th>construire</th>\n",
              "      <th>...</th>\n",
              "      <th>segmentation</th>\n",
              "      <th>sequences</th>\n",
              "      <th>serrant</th>\n",
              "      <th>significations</th>\n",
              "      <th>solution</th>\n",
              "      <th>sous</th>\n",
              "      <th>spatio</th>\n",
              "      <th>sprint</th>\n",
              "      <th>suivant</th>\n",
              "      <th>systeme</th>\n",
              "      <th>tache</th>\n",
              "      <th>temporelles</th>\n",
              "      <th>texte</th>\n",
              "      <th>textes</th>\n",
              "      <th>traitement</th>\n",
              "      <th>traitons</th>\n",
              "      <th>transcription</th>\n",
              "      <th>transferts</th>\n",
              "      <th>travail</th>\n",
              "      <th>travaux</th>\n",
              "      <th>travers</th>\n",
              "      <th>troisieme</th>\n",
              "      <th>un</th>\n",
              "      <th>une</th>\n",
              "      <th>universitaire</th>\n",
              "      <th>universite</th>\n",
              "      <th>van</th>\n",
              "      <th>vandeloise</th>\n",
              "      <th>vehicule</th>\n",
              "      <th>vehicules</th>\n",
              "      <th>verbal</th>\n",
              "      <th>verbales</th>\n",
              "      <th>victorri</th>\n",
              "      <th>virage</th>\n",
              "      <th>visant</th>\n",
              "      <th>vise</th>\n",
              "      <th>visuelle</th>\n",
              "      <th>vitesse</th>\n",
              "      <th>voiture</th>\n",
              "      <th>yam</th>\n",
              "    </tr>\n",
              "  </thead>\n",
              "  <tbody>\n",
              "    <tr>\n",
              "      <th>0</th>\n",
              "      <td>0.0</td>\n",
              "      <td>0.0</td>\n",
              "      <td>0.0</td>\n",
              "      <td>0.0</td>\n",
              "      <td>0.0</td>\n",
              "      <td>0.0</td>\n",
              "      <td>0.0</td>\n",
              "      <td>0.0</td>\n",
              "      <td>0.0</td>\n",
              "      <td>0.0</td>\n",
              "      <td>0.0</td>\n",
              "      <td>0.0</td>\n",
              "      <td>0.0</td>\n",
              "      <td>0.0</td>\n",
              "      <td>0.0</td>\n",
              "      <td>0.0</td>\n",
              "      <td>0.0</td>\n",
              "      <td>0.0</td>\n",
              "      <td>0.0</td>\n",
              "      <td>0.0</td>\n",
              "      <td>0.0</td>\n",
              "      <td>0.0</td>\n",
              "      <td>0.0</td>\n",
              "      <td>0.0</td>\n",
              "      <td>0.0</td>\n",
              "      <td>0.0</td>\n",
              "      <td>0.0</td>\n",
              "      <td>0.0</td>\n",
              "      <td>0.0</td>\n",
              "      <td>0.0</td>\n",
              "      <td>0.0</td>\n",
              "      <td>0.0</td>\n",
              "      <td>0.0</td>\n",
              "      <td>0.0</td>\n",
              "      <td>0.0</td>\n",
              "      <td>0.0</td>\n",
              "      <td>0.0</td>\n",
              "      <td>1.0</td>\n",
              "      <td>0.0</td>\n",
              "      <td>0.0</td>\n",
              "      <td>...</td>\n",
              "      <td>0.0</td>\n",
              "      <td>0.0</td>\n",
              "      <td>0.0</td>\n",
              "      <td>0.0</td>\n",
              "      <td>0.0</td>\n",
              "      <td>0.0</td>\n",
              "      <td>0.0</td>\n",
              "      <td>0.0</td>\n",
              "      <td>0.0</td>\n",
              "      <td>0.0</td>\n",
              "      <td>0.0</td>\n",
              "      <td>0.0</td>\n",
              "      <td>0.0</td>\n",
              "      <td>0.0</td>\n",
              "      <td>0.0</td>\n",
              "      <td>0.0</td>\n",
              "      <td>0.0</td>\n",
              "      <td>0.0</td>\n",
              "      <td>0.0</td>\n",
              "      <td>0.0</td>\n",
              "      <td>0.0</td>\n",
              "      <td>0.0</td>\n",
              "      <td>0.0</td>\n",
              "      <td>0.0</td>\n",
              "      <td>0.0</td>\n",
              "      <td>0.0</td>\n",
              "      <td>0.0</td>\n",
              "      <td>0.0</td>\n",
              "      <td>0.0</td>\n",
              "      <td>0.0</td>\n",
              "      <td>0.0</td>\n",
              "      <td>0.0</td>\n",
              "      <td>0.0</td>\n",
              "      <td>0.0</td>\n",
              "      <td>0.0</td>\n",
              "      <td>0.0</td>\n",
              "      <td>0.0</td>\n",
              "      <td>0.0</td>\n",
              "      <td>0.0</td>\n",
              "      <td>0.0</td>\n",
              "    </tr>\n",
              "    <tr>\n",
              "      <th>1</th>\n",
              "      <td>0.0</td>\n",
              "      <td>0.0</td>\n",
              "      <td>0.0</td>\n",
              "      <td>0.0</td>\n",
              "      <td>0.0</td>\n",
              "      <td>0.0</td>\n",
              "      <td>0.0</td>\n",
              "      <td>0.0</td>\n",
              "      <td>0.0</td>\n",
              "      <td>0.0</td>\n",
              "      <td>0.0</td>\n",
              "      <td>0.0</td>\n",
              "      <td>0.0</td>\n",
              "      <td>0.0</td>\n",
              "      <td>0.0</td>\n",
              "      <td>0.0</td>\n",
              "      <td>0.0</td>\n",
              "      <td>0.0</td>\n",
              "      <td>0.0</td>\n",
              "      <td>0.0</td>\n",
              "      <td>0.0</td>\n",
              "      <td>0.0</td>\n",
              "      <td>0.0</td>\n",
              "      <td>0.0</td>\n",
              "      <td>0.0</td>\n",
              "      <td>0.0</td>\n",
              "      <td>0.0</td>\n",
              "      <td>0.0</td>\n",
              "      <td>0.0</td>\n",
              "      <td>0.0</td>\n",
              "      <td>0.0</td>\n",
              "      <td>0.0</td>\n",
              "      <td>0.0</td>\n",
              "      <td>0.0</td>\n",
              "      <td>0.0</td>\n",
              "      <td>0.0</td>\n",
              "      <td>0.0</td>\n",
              "      <td>0.0</td>\n",
              "      <td>0.0</td>\n",
              "      <td>0.0</td>\n",
              "      <td>...</td>\n",
              "      <td>0.0</td>\n",
              "      <td>0.0</td>\n",
              "      <td>0.0</td>\n",
              "      <td>0.0</td>\n",
              "      <td>0.0</td>\n",
              "      <td>0.0</td>\n",
              "      <td>0.0</td>\n",
              "      <td>0.0</td>\n",
              "      <td>0.0</td>\n",
              "      <td>0.0</td>\n",
              "      <td>0.0</td>\n",
              "      <td>0.0</td>\n",
              "      <td>0.0</td>\n",
              "      <td>0.0</td>\n",
              "      <td>0.0</td>\n",
              "      <td>0.0</td>\n",
              "      <td>0.0</td>\n",
              "      <td>0.0</td>\n",
              "      <td>1.0</td>\n",
              "      <td>0.0</td>\n",
              "      <td>0.0</td>\n",
              "      <td>0.0</td>\n",
              "      <td>0.0</td>\n",
              "      <td>0.0</td>\n",
              "      <td>0.0</td>\n",
              "      <td>0.0</td>\n",
              "      <td>0.0</td>\n",
              "      <td>0.0</td>\n",
              "      <td>0.0</td>\n",
              "      <td>0.0</td>\n",
              "      <td>0.0</td>\n",
              "      <td>0.0</td>\n",
              "      <td>0.0</td>\n",
              "      <td>0.0</td>\n",
              "      <td>0.0</td>\n",
              "      <td>0.0</td>\n",
              "      <td>0.0</td>\n",
              "      <td>0.0</td>\n",
              "      <td>0.0</td>\n",
              "      <td>0.0</td>\n",
              "    </tr>\n",
              "    <tr>\n",
              "      <th>2</th>\n",
              "      <td>0.0</td>\n",
              "      <td>0.0</td>\n",
              "      <td>0.0</td>\n",
              "      <td>0.0</td>\n",
              "      <td>0.0</td>\n",
              "      <td>0.0</td>\n",
              "      <td>0.0</td>\n",
              "      <td>0.0</td>\n",
              "      <td>0.0</td>\n",
              "      <td>0.0</td>\n",
              "      <td>0.0</td>\n",
              "      <td>0.0</td>\n",
              "      <td>0.0</td>\n",
              "      <td>0.0</td>\n",
              "      <td>0.0</td>\n",
              "      <td>0.0</td>\n",
              "      <td>0.0</td>\n",
              "      <td>0.0</td>\n",
              "      <td>0.0</td>\n",
              "      <td>0.0</td>\n",
              "      <td>0.0</td>\n",
              "      <td>0.0</td>\n",
              "      <td>0.0</td>\n",
              "      <td>0.0</td>\n",
              "      <td>0.0</td>\n",
              "      <td>0.0</td>\n",
              "      <td>0.0</td>\n",
              "      <td>0.0</td>\n",
              "      <td>0.0</td>\n",
              "      <td>0.0</td>\n",
              "      <td>0.0</td>\n",
              "      <td>0.0</td>\n",
              "      <td>0.0</td>\n",
              "      <td>0.0</td>\n",
              "      <td>0.0</td>\n",
              "      <td>0.0</td>\n",
              "      <td>0.0</td>\n",
              "      <td>0.0</td>\n",
              "      <td>0.0</td>\n",
              "      <td>0.0</td>\n",
              "      <td>...</td>\n",
              "      <td>0.0</td>\n",
              "      <td>0.0</td>\n",
              "      <td>0.0</td>\n",
              "      <td>0.0</td>\n",
              "      <td>0.0</td>\n",
              "      <td>0.0</td>\n",
              "      <td>0.0</td>\n",
              "      <td>0.0</td>\n",
              "      <td>0.0</td>\n",
              "      <td>0.0</td>\n",
              "      <td>1.0</td>\n",
              "      <td>0.0</td>\n",
              "      <td>0.0</td>\n",
              "      <td>0.0</td>\n",
              "      <td>0.0</td>\n",
              "      <td>0.0</td>\n",
              "      <td>0.0</td>\n",
              "      <td>0.0</td>\n",
              "      <td>0.0</td>\n",
              "      <td>0.0</td>\n",
              "      <td>0.0</td>\n",
              "      <td>0.0</td>\n",
              "      <td>0.0</td>\n",
              "      <td>0.0</td>\n",
              "      <td>0.0</td>\n",
              "      <td>0.0</td>\n",
              "      <td>0.0</td>\n",
              "      <td>0.0</td>\n",
              "      <td>0.0</td>\n",
              "      <td>0.0</td>\n",
              "      <td>0.0</td>\n",
              "      <td>0.0</td>\n",
              "      <td>0.0</td>\n",
              "      <td>0.0</td>\n",
              "      <td>0.0</td>\n",
              "      <td>0.0</td>\n",
              "      <td>0.0</td>\n",
              "      <td>0.0</td>\n",
              "      <td>0.0</td>\n",
              "      <td>0.0</td>\n",
              "    </tr>\n",
              "    <tr>\n",
              "      <th>3</th>\n",
              "      <td>0.0</td>\n",
              "      <td>0.0</td>\n",
              "      <td>0.0</td>\n",
              "      <td>0.0</td>\n",
              "      <td>0.0</td>\n",
              "      <td>0.0</td>\n",
              "      <td>0.0</td>\n",
              "      <td>0.0</td>\n",
              "      <td>0.0</td>\n",
              "      <td>0.0</td>\n",
              "      <td>0.0</td>\n",
              "      <td>0.0</td>\n",
              "      <td>0.0</td>\n",
              "      <td>0.0</td>\n",
              "      <td>0.0</td>\n",
              "      <td>0.0</td>\n",
              "      <td>0.0</td>\n",
              "      <td>0.0</td>\n",
              "      <td>0.0</td>\n",
              "      <td>0.0</td>\n",
              "      <td>0.0</td>\n",
              "      <td>0.0</td>\n",
              "      <td>0.0</td>\n",
              "      <td>0.0</td>\n",
              "      <td>0.0</td>\n",
              "      <td>0.0</td>\n",
              "      <td>0.0</td>\n",
              "      <td>0.0</td>\n",
              "      <td>0.0</td>\n",
              "      <td>0.0</td>\n",
              "      <td>0.0</td>\n",
              "      <td>0.0</td>\n",
              "      <td>0.0</td>\n",
              "      <td>0.0</td>\n",
              "      <td>0.0</td>\n",
              "      <td>0.0</td>\n",
              "      <td>0.0</td>\n",
              "      <td>0.0</td>\n",
              "      <td>0.0</td>\n",
              "      <td>0.0</td>\n",
              "      <td>...</td>\n",
              "      <td>0.0</td>\n",
              "      <td>0.0</td>\n",
              "      <td>0.0</td>\n",
              "      <td>0.0</td>\n",
              "      <td>0.0</td>\n",
              "      <td>0.0</td>\n",
              "      <td>0.0</td>\n",
              "      <td>0.0</td>\n",
              "      <td>0.0</td>\n",
              "      <td>0.0</td>\n",
              "      <td>0.0</td>\n",
              "      <td>0.0</td>\n",
              "      <td>0.0</td>\n",
              "      <td>0.0</td>\n",
              "      <td>1.0</td>\n",
              "      <td>0.0</td>\n",
              "      <td>0.0</td>\n",
              "      <td>0.0</td>\n",
              "      <td>0.0</td>\n",
              "      <td>0.0</td>\n",
              "      <td>0.0</td>\n",
              "      <td>0.0</td>\n",
              "      <td>0.0</td>\n",
              "      <td>0.0</td>\n",
              "      <td>0.0</td>\n",
              "      <td>0.0</td>\n",
              "      <td>0.0</td>\n",
              "      <td>0.0</td>\n",
              "      <td>0.0</td>\n",
              "      <td>0.0</td>\n",
              "      <td>0.0</td>\n",
              "      <td>0.0</td>\n",
              "      <td>0.0</td>\n",
              "      <td>0.0</td>\n",
              "      <td>0.0</td>\n",
              "      <td>0.0</td>\n",
              "      <td>0.0</td>\n",
              "      <td>0.0</td>\n",
              "      <td>0.0</td>\n",
              "      <td>0.0</td>\n",
              "    </tr>\n",
              "    <tr>\n",
              "      <th>4</th>\n",
              "      <td>0.0</td>\n",
              "      <td>0.0</td>\n",
              "      <td>0.0</td>\n",
              "      <td>0.0</td>\n",
              "      <td>0.0</td>\n",
              "      <td>0.0</td>\n",
              "      <td>0.0</td>\n",
              "      <td>0.0</td>\n",
              "      <td>0.0</td>\n",
              "      <td>0.0</td>\n",
              "      <td>0.0</td>\n",
              "      <td>0.0</td>\n",
              "      <td>0.0</td>\n",
              "      <td>0.0</td>\n",
              "      <td>0.0</td>\n",
              "      <td>0.0</td>\n",
              "      <td>0.0</td>\n",
              "      <td>0.0</td>\n",
              "      <td>0.0</td>\n",
              "      <td>0.0</td>\n",
              "      <td>0.0</td>\n",
              "      <td>0.0</td>\n",
              "      <td>0.0</td>\n",
              "      <td>1.0</td>\n",
              "      <td>0.0</td>\n",
              "      <td>0.0</td>\n",
              "      <td>0.0</td>\n",
              "      <td>0.0</td>\n",
              "      <td>0.0</td>\n",
              "      <td>0.0</td>\n",
              "      <td>0.0</td>\n",
              "      <td>0.0</td>\n",
              "      <td>0.0</td>\n",
              "      <td>0.0</td>\n",
              "      <td>0.0</td>\n",
              "      <td>0.0</td>\n",
              "      <td>0.0</td>\n",
              "      <td>0.0</td>\n",
              "      <td>0.0</td>\n",
              "      <td>0.0</td>\n",
              "      <td>...</td>\n",
              "      <td>0.0</td>\n",
              "      <td>0.0</td>\n",
              "      <td>0.0</td>\n",
              "      <td>0.0</td>\n",
              "      <td>0.0</td>\n",
              "      <td>0.0</td>\n",
              "      <td>0.0</td>\n",
              "      <td>0.0</td>\n",
              "      <td>0.0</td>\n",
              "      <td>0.0</td>\n",
              "      <td>0.0</td>\n",
              "      <td>0.0</td>\n",
              "      <td>0.0</td>\n",
              "      <td>0.0</td>\n",
              "      <td>0.0</td>\n",
              "      <td>0.0</td>\n",
              "      <td>0.0</td>\n",
              "      <td>0.0</td>\n",
              "      <td>0.0</td>\n",
              "      <td>0.0</td>\n",
              "      <td>0.0</td>\n",
              "      <td>0.0</td>\n",
              "      <td>0.0</td>\n",
              "      <td>0.0</td>\n",
              "      <td>0.0</td>\n",
              "      <td>0.0</td>\n",
              "      <td>0.0</td>\n",
              "      <td>0.0</td>\n",
              "      <td>0.0</td>\n",
              "      <td>0.0</td>\n",
              "      <td>0.0</td>\n",
              "      <td>0.0</td>\n",
              "      <td>0.0</td>\n",
              "      <td>0.0</td>\n",
              "      <td>0.0</td>\n",
              "      <td>0.0</td>\n",
              "      <td>0.0</td>\n",
              "      <td>0.0</td>\n",
              "      <td>0.0</td>\n",
              "      <td>0.0</td>\n",
              "    </tr>\n",
              "    <tr>\n",
              "      <th>...</th>\n",
              "      <td>...</td>\n",
              "      <td>...</td>\n",
              "      <td>...</td>\n",
              "      <td>...</td>\n",
              "      <td>...</td>\n",
              "      <td>...</td>\n",
              "      <td>...</td>\n",
              "      <td>...</td>\n",
              "      <td>...</td>\n",
              "      <td>...</td>\n",
              "      <td>...</td>\n",
              "      <td>...</td>\n",
              "      <td>...</td>\n",
              "      <td>...</td>\n",
              "      <td>...</td>\n",
              "      <td>...</td>\n",
              "      <td>...</td>\n",
              "      <td>...</td>\n",
              "      <td>...</td>\n",
              "      <td>...</td>\n",
              "      <td>...</td>\n",
              "      <td>...</td>\n",
              "      <td>...</td>\n",
              "      <td>...</td>\n",
              "      <td>...</td>\n",
              "      <td>...</td>\n",
              "      <td>...</td>\n",
              "      <td>...</td>\n",
              "      <td>...</td>\n",
              "      <td>...</td>\n",
              "      <td>...</td>\n",
              "      <td>...</td>\n",
              "      <td>...</td>\n",
              "      <td>...</td>\n",
              "      <td>...</td>\n",
              "      <td>...</td>\n",
              "      <td>...</td>\n",
              "      <td>...</td>\n",
              "      <td>...</td>\n",
              "      <td>...</td>\n",
              "      <td>...</td>\n",
              "      <td>...</td>\n",
              "      <td>...</td>\n",
              "      <td>...</td>\n",
              "      <td>...</td>\n",
              "      <td>...</td>\n",
              "      <td>...</td>\n",
              "      <td>...</td>\n",
              "      <td>...</td>\n",
              "      <td>...</td>\n",
              "      <td>...</td>\n",
              "      <td>...</td>\n",
              "      <td>...</td>\n",
              "      <td>...</td>\n",
              "      <td>...</td>\n",
              "      <td>...</td>\n",
              "      <td>...</td>\n",
              "      <td>...</td>\n",
              "      <td>...</td>\n",
              "      <td>...</td>\n",
              "      <td>...</td>\n",
              "      <td>...</td>\n",
              "      <td>...</td>\n",
              "      <td>...</td>\n",
              "      <td>...</td>\n",
              "      <td>...</td>\n",
              "      <td>...</td>\n",
              "      <td>...</td>\n",
              "      <td>...</td>\n",
              "      <td>...</td>\n",
              "      <td>...</td>\n",
              "      <td>...</td>\n",
              "      <td>...</td>\n",
              "      <td>...</td>\n",
              "      <td>...</td>\n",
              "      <td>...</td>\n",
              "      <td>...</td>\n",
              "      <td>...</td>\n",
              "      <td>...</td>\n",
              "      <td>...</td>\n",
              "      <td>...</td>\n",
              "    </tr>\n",
              "    <tr>\n",
              "      <th>190</th>\n",
              "      <td>0.0</td>\n",
              "      <td>0.0</td>\n",
              "      <td>0.0</td>\n",
              "      <td>0.0</td>\n",
              "      <td>0.0</td>\n",
              "      <td>0.0</td>\n",
              "      <td>0.0</td>\n",
              "      <td>0.0</td>\n",
              "      <td>0.0</td>\n",
              "      <td>0.0</td>\n",
              "      <td>0.0</td>\n",
              "      <td>0.0</td>\n",
              "      <td>0.0</td>\n",
              "      <td>0.0</td>\n",
              "      <td>0.0</td>\n",
              "      <td>0.0</td>\n",
              "      <td>0.0</td>\n",
              "      <td>0.0</td>\n",
              "      <td>0.0</td>\n",
              "      <td>0.0</td>\n",
              "      <td>0.0</td>\n",
              "      <td>0.0</td>\n",
              "      <td>0.0</td>\n",
              "      <td>0.0</td>\n",
              "      <td>0.0</td>\n",
              "      <td>0.0</td>\n",
              "      <td>0.0</td>\n",
              "      <td>0.0</td>\n",
              "      <td>0.0</td>\n",
              "      <td>0.0</td>\n",
              "      <td>0.0</td>\n",
              "      <td>0.0</td>\n",
              "      <td>0.0</td>\n",
              "      <td>0.0</td>\n",
              "      <td>0.0</td>\n",
              "      <td>0.0</td>\n",
              "      <td>0.0</td>\n",
              "      <td>0.0</td>\n",
              "      <td>0.0</td>\n",
              "      <td>0.0</td>\n",
              "      <td>...</td>\n",
              "      <td>0.0</td>\n",
              "      <td>0.0</td>\n",
              "      <td>0.0</td>\n",
              "      <td>0.0</td>\n",
              "      <td>0.0</td>\n",
              "      <td>0.0</td>\n",
              "      <td>0.0</td>\n",
              "      <td>0.0</td>\n",
              "      <td>0.0</td>\n",
              "      <td>0.0</td>\n",
              "      <td>0.0</td>\n",
              "      <td>0.0</td>\n",
              "      <td>0.0</td>\n",
              "      <td>0.0</td>\n",
              "      <td>0.0</td>\n",
              "      <td>0.0</td>\n",
              "      <td>0.0</td>\n",
              "      <td>0.0</td>\n",
              "      <td>0.0</td>\n",
              "      <td>0.0</td>\n",
              "      <td>0.0</td>\n",
              "      <td>0.0</td>\n",
              "      <td>0.0</td>\n",
              "      <td>0.0</td>\n",
              "      <td>0.0</td>\n",
              "      <td>0.0</td>\n",
              "      <td>0.0</td>\n",
              "      <td>0.0</td>\n",
              "      <td>0.0</td>\n",
              "      <td>0.0</td>\n",
              "      <td>0.0</td>\n",
              "      <td>0.0</td>\n",
              "      <td>0.0</td>\n",
              "      <td>0.0</td>\n",
              "      <td>0.0</td>\n",
              "      <td>0.0</td>\n",
              "      <td>0.0</td>\n",
              "      <td>0.0</td>\n",
              "      <td>0.0</td>\n",
              "      <td>0.0</td>\n",
              "    </tr>\n",
              "    <tr>\n",
              "      <th>191</th>\n",
              "      <td>0.0</td>\n",
              "      <td>0.0</td>\n",
              "      <td>0.0</td>\n",
              "      <td>0.0</td>\n",
              "      <td>0.0</td>\n",
              "      <td>0.0</td>\n",
              "      <td>0.0</td>\n",
              "      <td>0.0</td>\n",
              "      <td>0.0</td>\n",
              "      <td>0.0</td>\n",
              "      <td>0.0</td>\n",
              "      <td>0.0</td>\n",
              "      <td>0.0</td>\n",
              "      <td>0.0</td>\n",
              "      <td>0.0</td>\n",
              "      <td>0.0</td>\n",
              "      <td>0.0</td>\n",
              "      <td>0.0</td>\n",
              "      <td>0.0</td>\n",
              "      <td>0.0</td>\n",
              "      <td>0.0</td>\n",
              "      <td>0.0</td>\n",
              "      <td>0.0</td>\n",
              "      <td>0.0</td>\n",
              "      <td>0.0</td>\n",
              "      <td>0.0</td>\n",
              "      <td>0.0</td>\n",
              "      <td>0.0</td>\n",
              "      <td>0.0</td>\n",
              "      <td>0.0</td>\n",
              "      <td>0.0</td>\n",
              "      <td>0.0</td>\n",
              "      <td>0.0</td>\n",
              "      <td>0.0</td>\n",
              "      <td>0.0</td>\n",
              "      <td>0.0</td>\n",
              "      <td>0.0</td>\n",
              "      <td>0.0</td>\n",
              "      <td>0.0</td>\n",
              "      <td>0.0</td>\n",
              "      <td>...</td>\n",
              "      <td>0.0</td>\n",
              "      <td>0.0</td>\n",
              "      <td>0.0</td>\n",
              "      <td>0.0</td>\n",
              "      <td>0.0</td>\n",
              "      <td>0.0</td>\n",
              "      <td>0.0</td>\n",
              "      <td>0.0</td>\n",
              "      <td>0.0</td>\n",
              "      <td>0.0</td>\n",
              "      <td>0.0</td>\n",
              "      <td>0.0</td>\n",
              "      <td>0.0</td>\n",
              "      <td>0.0</td>\n",
              "      <td>0.0</td>\n",
              "      <td>0.0</td>\n",
              "      <td>0.0</td>\n",
              "      <td>0.0</td>\n",
              "      <td>0.0</td>\n",
              "      <td>0.0</td>\n",
              "      <td>0.0</td>\n",
              "      <td>0.0</td>\n",
              "      <td>0.0</td>\n",
              "      <td>0.0</td>\n",
              "      <td>0.0</td>\n",
              "      <td>0.0</td>\n",
              "      <td>0.0</td>\n",
              "      <td>0.0</td>\n",
              "      <td>0.0</td>\n",
              "      <td>1.0</td>\n",
              "      <td>0.0</td>\n",
              "      <td>0.0</td>\n",
              "      <td>0.0</td>\n",
              "      <td>0.0</td>\n",
              "      <td>0.0</td>\n",
              "      <td>0.0</td>\n",
              "      <td>0.0</td>\n",
              "      <td>0.0</td>\n",
              "      <td>0.0</td>\n",
              "      <td>0.0</td>\n",
              "    </tr>\n",
              "    <tr>\n",
              "      <th>192</th>\n",
              "      <td>0.0</td>\n",
              "      <td>0.0</td>\n",
              "      <td>0.0</td>\n",
              "      <td>0.0</td>\n",
              "      <td>0.0</td>\n",
              "      <td>0.0</td>\n",
              "      <td>0.0</td>\n",
              "      <td>0.0</td>\n",
              "      <td>0.0</td>\n",
              "      <td>0.0</td>\n",
              "      <td>0.0</td>\n",
              "      <td>0.0</td>\n",
              "      <td>0.0</td>\n",
              "      <td>0.0</td>\n",
              "      <td>0.0</td>\n",
              "      <td>0.0</td>\n",
              "      <td>0.0</td>\n",
              "      <td>0.0</td>\n",
              "      <td>0.0</td>\n",
              "      <td>0.0</td>\n",
              "      <td>0.0</td>\n",
              "      <td>0.0</td>\n",
              "      <td>0.0</td>\n",
              "      <td>0.0</td>\n",
              "      <td>0.0</td>\n",
              "      <td>0.0</td>\n",
              "      <td>0.0</td>\n",
              "      <td>0.0</td>\n",
              "      <td>0.0</td>\n",
              "      <td>0.0</td>\n",
              "      <td>0.0</td>\n",
              "      <td>0.0</td>\n",
              "      <td>0.0</td>\n",
              "      <td>0.0</td>\n",
              "      <td>0.0</td>\n",
              "      <td>0.0</td>\n",
              "      <td>0.0</td>\n",
              "      <td>0.0</td>\n",
              "      <td>0.0</td>\n",
              "      <td>0.0</td>\n",
              "      <td>...</td>\n",
              "      <td>0.0</td>\n",
              "      <td>0.0</td>\n",
              "      <td>0.0</td>\n",
              "      <td>0.0</td>\n",
              "      <td>0.0</td>\n",
              "      <td>0.0</td>\n",
              "      <td>0.0</td>\n",
              "      <td>0.0</td>\n",
              "      <td>0.0</td>\n",
              "      <td>0.0</td>\n",
              "      <td>0.0</td>\n",
              "      <td>0.0</td>\n",
              "      <td>0.0</td>\n",
              "      <td>0.0</td>\n",
              "      <td>0.0</td>\n",
              "      <td>0.0</td>\n",
              "      <td>0.0</td>\n",
              "      <td>0.0</td>\n",
              "      <td>0.0</td>\n",
              "      <td>0.0</td>\n",
              "      <td>0.0</td>\n",
              "      <td>0.0</td>\n",
              "      <td>0.0</td>\n",
              "      <td>0.0</td>\n",
              "      <td>0.0</td>\n",
              "      <td>0.0</td>\n",
              "      <td>0.0</td>\n",
              "      <td>0.0</td>\n",
              "      <td>0.0</td>\n",
              "      <td>0.0</td>\n",
              "      <td>0.0</td>\n",
              "      <td>0.0</td>\n",
              "      <td>0.0</td>\n",
              "      <td>0.0</td>\n",
              "      <td>0.0</td>\n",
              "      <td>0.0</td>\n",
              "      <td>0.0</td>\n",
              "      <td>0.0</td>\n",
              "      <td>0.0</td>\n",
              "      <td>0.0</td>\n",
              "    </tr>\n",
              "    <tr>\n",
              "      <th>193</th>\n",
              "      <td>0.0</td>\n",
              "      <td>0.0</td>\n",
              "      <td>0.0</td>\n",
              "      <td>0.0</td>\n",
              "      <td>0.0</td>\n",
              "      <td>0.0</td>\n",
              "      <td>0.0</td>\n",
              "      <td>0.0</td>\n",
              "      <td>0.0</td>\n",
              "      <td>0.0</td>\n",
              "      <td>0.0</td>\n",
              "      <td>0.0</td>\n",
              "      <td>0.0</td>\n",
              "      <td>0.0</td>\n",
              "      <td>0.0</td>\n",
              "      <td>0.0</td>\n",
              "      <td>0.0</td>\n",
              "      <td>0.0</td>\n",
              "      <td>0.0</td>\n",
              "      <td>0.0</td>\n",
              "      <td>0.0</td>\n",
              "      <td>0.0</td>\n",
              "      <td>0.0</td>\n",
              "      <td>0.0</td>\n",
              "      <td>0.0</td>\n",
              "      <td>0.0</td>\n",
              "      <td>0.0</td>\n",
              "      <td>0.0</td>\n",
              "      <td>0.0</td>\n",
              "      <td>0.0</td>\n",
              "      <td>0.0</td>\n",
              "      <td>0.0</td>\n",
              "      <td>0.0</td>\n",
              "      <td>0.0</td>\n",
              "      <td>0.0</td>\n",
              "      <td>0.0</td>\n",
              "      <td>0.0</td>\n",
              "      <td>0.0</td>\n",
              "      <td>0.0</td>\n",
              "      <td>0.0</td>\n",
              "      <td>...</td>\n",
              "      <td>0.0</td>\n",
              "      <td>0.0</td>\n",
              "      <td>0.0</td>\n",
              "      <td>0.0</td>\n",
              "      <td>0.0</td>\n",
              "      <td>0.0</td>\n",
              "      <td>0.0</td>\n",
              "      <td>0.0</td>\n",
              "      <td>0.0</td>\n",
              "      <td>0.0</td>\n",
              "      <td>0.0</td>\n",
              "      <td>0.0</td>\n",
              "      <td>0.0</td>\n",
              "      <td>0.0</td>\n",
              "      <td>0.0</td>\n",
              "      <td>0.0</td>\n",
              "      <td>0.0</td>\n",
              "      <td>0.0</td>\n",
              "      <td>0.0</td>\n",
              "      <td>0.0</td>\n",
              "      <td>0.0</td>\n",
              "      <td>0.0</td>\n",
              "      <td>0.0</td>\n",
              "      <td>0.0</td>\n",
              "      <td>0.0</td>\n",
              "      <td>0.0</td>\n",
              "      <td>0.0</td>\n",
              "      <td>0.0</td>\n",
              "      <td>0.0</td>\n",
              "      <td>0.0</td>\n",
              "      <td>0.0</td>\n",
              "      <td>0.0</td>\n",
              "      <td>0.0</td>\n",
              "      <td>0.0</td>\n",
              "      <td>0.0</td>\n",
              "      <td>0.0</td>\n",
              "      <td>0.0</td>\n",
              "      <td>0.0</td>\n",
              "      <td>0.0</td>\n",
              "      <td>0.0</td>\n",
              "    </tr>\n",
              "    <tr>\n",
              "      <th>194</th>\n",
              "      <td>0.0</td>\n",
              "      <td>0.0</td>\n",
              "      <td>0.0</td>\n",
              "      <td>0.0</td>\n",
              "      <td>0.0</td>\n",
              "      <td>0.0</td>\n",
              "      <td>0.0</td>\n",
              "      <td>0.0</td>\n",
              "      <td>0.0</td>\n",
              "      <td>0.0</td>\n",
              "      <td>0.0</td>\n",
              "      <td>0.0</td>\n",
              "      <td>0.0</td>\n",
              "      <td>0.0</td>\n",
              "      <td>0.0</td>\n",
              "      <td>0.0</td>\n",
              "      <td>0.0</td>\n",
              "      <td>0.0</td>\n",
              "      <td>0.0</td>\n",
              "      <td>0.0</td>\n",
              "      <td>0.0</td>\n",
              "      <td>0.0</td>\n",
              "      <td>0.0</td>\n",
              "      <td>0.0</td>\n",
              "      <td>0.0</td>\n",
              "      <td>0.0</td>\n",
              "      <td>0.0</td>\n",
              "      <td>0.0</td>\n",
              "      <td>0.0</td>\n",
              "      <td>0.0</td>\n",
              "      <td>0.0</td>\n",
              "      <td>0.0</td>\n",
              "      <td>0.0</td>\n",
              "      <td>0.0</td>\n",
              "      <td>0.0</td>\n",
              "      <td>0.0</td>\n",
              "      <td>0.0</td>\n",
              "      <td>0.0</td>\n",
              "      <td>0.0</td>\n",
              "      <td>0.0</td>\n",
              "      <td>...</td>\n",
              "      <td>0.0</td>\n",
              "      <td>0.0</td>\n",
              "      <td>0.0</td>\n",
              "      <td>0.0</td>\n",
              "      <td>0.0</td>\n",
              "      <td>0.0</td>\n",
              "      <td>0.0</td>\n",
              "      <td>0.0</td>\n",
              "      <td>0.0</td>\n",
              "      <td>0.0</td>\n",
              "      <td>0.0</td>\n",
              "      <td>0.0</td>\n",
              "      <td>0.0</td>\n",
              "      <td>0.0</td>\n",
              "      <td>0.0</td>\n",
              "      <td>0.0</td>\n",
              "      <td>0.0</td>\n",
              "      <td>0.0</td>\n",
              "      <td>0.0</td>\n",
              "      <td>0.0</td>\n",
              "      <td>0.0</td>\n",
              "      <td>0.0</td>\n",
              "      <td>0.0</td>\n",
              "      <td>0.0</td>\n",
              "      <td>0.0</td>\n",
              "      <td>0.0</td>\n",
              "      <td>0.0</td>\n",
              "      <td>0.0</td>\n",
              "      <td>0.0</td>\n",
              "      <td>0.0</td>\n",
              "      <td>0.0</td>\n",
              "      <td>0.0</td>\n",
              "      <td>0.0</td>\n",
              "      <td>0.0</td>\n",
              "      <td>0.0</td>\n",
              "      <td>0.0</td>\n",
              "      <td>0.0</td>\n",
              "      <td>0.0</td>\n",
              "      <td>0.0</td>\n",
              "      <td>0.0</td>\n",
              "    </tr>\n",
              "  </tbody>\n",
              "</table>\n",
              "<p>195 rows × 165 columns</p>\n",
              "</div>"
            ],
            "text/plain": [
              "      87   90   92   93   94  ...  vise  visuelle  vitesse  voiture  yam\n",
              "0    0.0  0.0  0.0  0.0  0.0  ...   0.0       0.0      0.0      0.0  0.0\n",
              "1    0.0  0.0  0.0  0.0  0.0  ...   0.0       0.0      0.0      0.0  0.0\n",
              "2    0.0  0.0  0.0  0.0  0.0  ...   0.0       0.0      0.0      0.0  0.0\n",
              "3    0.0  0.0  0.0  0.0  0.0  ...   0.0       0.0      0.0      0.0  0.0\n",
              "4    0.0  0.0  0.0  0.0  0.0  ...   0.0       0.0      0.0      0.0  0.0\n",
              "..   ...  ...  ...  ...  ...  ...   ...       ...      ...      ...  ...\n",
              "190  0.0  0.0  0.0  0.0  0.0  ...   0.0       0.0      0.0      0.0  0.0\n",
              "191  0.0  0.0  0.0  0.0  0.0  ...   0.0       0.0      0.0      0.0  0.0\n",
              "192  0.0  0.0  0.0  0.0  0.0  ...   0.0       0.0      0.0      0.0  0.0\n",
              "193  0.0  0.0  0.0  0.0  0.0  ...   0.0       0.0      0.0      0.0  0.0\n",
              "194  0.0  0.0  0.0  0.0  0.0  ...   0.0       0.0      0.0      0.0  0.0\n",
              "\n",
              "[195 rows x 165 columns]"
            ]
          },
          "metadata": {
            "tags": []
          },
          "execution_count": 209
        }
      ]
    },
    {
      "cell_type": "code",
      "metadata": {
        "colab": {
          "base_uri": "https://localhost:8080/"
        },
        "id": "3NVpTr7c-ndU",
        "outputId": "6700d3a5-0779-4004-dc5d-e6c2de53fad3"
      },
      "source": [
        "vectors"
      ],
      "execution_count": null,
      "outputs": [
        {
          "output_type": "execute_result",
          "data": {
            "text/plain": [
              "<195x165 sparse matrix of type '<class 'numpy.float64'>'\n",
              "\twith 195 stored elements in Compressed Sparse Row format>"
            ]
          },
          "metadata": {
            "tags": []
          },
          "execution_count": 130
        }
      ]
    },
    {
      "cell_type": "code",
      "metadata": {
        "id": "tgC9isGv90ps"
      },
      "source": [
        "from sklearn.cluster import KMeans\n",
        "from sklearn import cluster\n",
        "kmeans = KMeans(n_clusters=2).fit(vectors)\n"
      ],
      "execution_count": null,
      "outputs": []
    },
    {
      "cell_type": "code",
      "metadata": {
        "colab": {
          "base_uri": "https://localhost:8080/"
        },
        "id": "6Wt5AmY_SRx8",
        "outputId": "f741b38b-1f0d-457e-bb40-9159c202fb3c"
      },
      "source": [
        "kmeans = cluster.KMeans(n_clusters = 10\n",
        "                               , init = 'k-means++'\n",
        "                               , n_init = 10\n",
        "                               , tol = 0.0001\n",
        "                               , n_jobs = -1\n",
        "                               , random_state = 1\n",
        "                               , algorithm = 'full')\n",
        "kmeans.fit(df_test)"
      ],
      "execution_count": null,
      "outputs": [
        {
          "output_type": "execute_result",
          "data": {
            "text/plain": [
              "KMeans(algorithm='full', copy_x=True, init='k-means++', max_iter=300,\n",
              "       n_clusters=10, n_init=10, n_jobs=-1, precompute_distances='auto',\n",
              "       random_state=1, tol=0.0001, verbose=0)"
            ]
          },
          "metadata": {
            "tags": []
          },
          "execution_count": 171
        }
      ]
    },
    {
      "cell_type": "markdown",
      "metadata": {
        "id": "BkfNS9ntSk3o"
      },
      "source": [
        ""
      ]
    },
    {
      "cell_type": "code",
      "metadata": {
        "id": "gRoscDmpElOK"
      },
      "source": [
        "def run_KMeans(max_k, data):\n",
        "    max_k += 1\n",
        "    kmeans_results = dict()\n",
        "    for k in range(2 , max_k):\n",
        "        kmeans = cluster.KMeans(n_clusters = k\n",
        "                               , init = 'k-means++'\n",
        "                               , n_init = 10\n",
        "                               , tol = 0.0001\n",
        "                               , n_jobs = -1\n",
        "                               , random_state = 1\n",
        "                               , algorithm = 'full')\n",
        "\n",
        "        kmeans_results.update( {k : kmeans.fit(data)} )\n",
        "        \n",
        "    return kmeans_results"
      ],
      "execution_count": null,
      "outputs": []
    },
    {
      "cell_type": "code",
      "metadata": {
        "id": "lO74R_iYEmDu"
      },
      "source": [
        "k = 8\n",
        "kmeans_results = run_KMeans(k, df_test)"
      ],
      "execution_count": null,
      "outputs": []
    },
    {
      "cell_type": "code",
      "metadata": {
        "colab": {
          "base_uri": "https://localhost:8080/"
        },
        "id": "F7qt4CnnSIRy",
        "outputId": "623413c5-b55e-4c07-ba9f-8c43a594583c"
      },
      "source": [
        "kmeans_results"
      ],
      "execution_count": null,
      "outputs": [
        {
          "output_type": "execute_result",
          "data": {
            "text/plain": [
              "{2: KMeans(algorithm='full', copy_x=True, init='k-means++', max_iter=300,\n",
              "        n_clusters=2, n_init=10, n_jobs=-1, precompute_distances='auto',\n",
              "        random_state=1, tol=0.0001, verbose=0),\n",
              " 3: KMeans(algorithm='full', copy_x=True, init='k-means++', max_iter=300,\n",
              "        n_clusters=3, n_init=10, n_jobs=-1, precompute_distances='auto',\n",
              "        random_state=1, tol=0.0001, verbose=0),\n",
              " 4: KMeans(algorithm='full', copy_x=True, init='k-means++', max_iter=300,\n",
              "        n_clusters=4, n_init=10, n_jobs=-1, precompute_distances='auto',\n",
              "        random_state=1, tol=0.0001, verbose=0),\n",
              " 5: KMeans(algorithm='full', copy_x=True, init='k-means++', max_iter=300,\n",
              "        n_clusters=5, n_init=10, n_jobs=-1, precompute_distances='auto',\n",
              "        random_state=1, tol=0.0001, verbose=0),\n",
              " 6: KMeans(algorithm='full', copy_x=True, init='k-means++', max_iter=300,\n",
              "        n_clusters=6, n_init=10, n_jobs=-1, precompute_distances='auto',\n",
              "        random_state=1, tol=0.0001, verbose=0),\n",
              " 7: KMeans(algorithm='full', copy_x=True, init='k-means++', max_iter=300,\n",
              "        n_clusters=7, n_init=10, n_jobs=-1, precompute_distances='auto',\n",
              "        random_state=1, tol=0.0001, verbose=0),\n",
              " 8: KMeans(algorithm='full', copy_x=True, init='k-means++', max_iter=300,\n",
              "        n_clusters=8, n_init=10, n_jobs=-1, precompute_distances='auto',\n",
              "        random_state=1, tol=0.0001, verbose=0)}"
            ]
          },
          "metadata": {
            "tags": []
          },
          "execution_count": 169
        }
      ]
    },
    {
      "cell_type": "code",
      "metadata": {
        "id": "PbYYOhvlGyRz"
      },
      "source": [
        "#setup kmeans clustering\n",
        "words = vectorizer.get_feature_names()\n",
        "kmeans = KMeans(n_clusters = 15, n_init = 17, n_jobs = -1, tol = 0.01, max_iter = 200)\n",
        "#fit the data \n",
        "kmeans.fit(vectors)\n",
        "#this loop transforms the numbers back into words\n",
        "common_words = kmeans.cluster_centers_.argsort()[:,-1:-10:-1]\n",
        "clusters_words = []\n",
        "nb_clusters = []\n",
        "i= 0\n",
        "for num, centroid in enumerate(common_words):\n",
        "    #print(str(num) + ' : ' + ', '.join(words[word] for word in centroid))\n",
        "    clusters_words.append(str(num) + ' : ' + ', '.join(words[word] for word in centroid))\n",
        "    nb_clusters.append(i)\n",
        "    i += 1\n",
        "\n",
        "nb_clusters\n",
        "df_clusters = pd.DataFrame({'nb_clusters':nb_clusters, 'clusters_words':clusters_words})\n",
        "\n"
      ],
      "execution_count": null,
      "outputs": []
    },
    {
      "cell_type": "code",
      "metadata": {
        "colab": {
          "base_uri": "https://localhost:8080/",
          "height": 478
        },
        "id": "6I45fDQJTyKE",
        "outputId": "e4463556-5b0f-4c0b-8e5f-285c751903b0"
      },
      "source": [
        "df_clusters"
      ],
      "execution_count": null,
      "outputs": [
        {
          "output_type": "execute_result",
          "data": {
            "text/html": [
              "<div>\n",
              "<style scoped>\n",
              "    .dataframe tbody tr th:only-of-type {\n",
              "        vertical-align: middle;\n",
              "    }\n",
              "\n",
              "    .dataframe tbody tr th {\n",
              "        vertical-align: top;\n",
              "    }\n",
              "\n",
              "    .dataframe thead th {\n",
              "        text-align: right;\n",
              "    }\n",
              "</style>\n",
              "<table border=\"1\" class=\"dataframe\">\n",
              "  <thead>\n",
              "    <tr style=\"text-align: right;\">\n",
              "      <th></th>\n",
              "      <th>nb_clusters</th>\n",
              "      <th>clusters_words</th>\n",
              "    </tr>\n",
              "  </thead>\n",
              "  <tbody>\n",
              "    <tr>\n",
              "      <th>0</th>\n",
              "      <td>0</td>\n",
              "      <td>0 : relative, analyse, traitement, article, im...</td>\n",
              "    </tr>\n",
              "    <tr>\n",
              "      <th>1</th>\n",
              "      <td>1</td>\n",
              "      <td>1 : exemple, yam, globale, garantissant, fruit...</td>\n",
              "    </tr>\n",
              "    <tr>\n",
              "      <th>2</th>\n",
              "      <td>2</td>\n",
              "      <td>2 : 90, yam, entreprise, generale, garantissan...</td>\n",
              "    </tr>\n",
              "    <tr>\n",
              "      <th>3</th>\n",
              "      <td>3</td>\n",
              "      <td>3 : automatique, yam, globale, garantissant, f...</td>\n",
              "    </tr>\n",
              "    <tr>\n",
              "      <th>4</th>\n",
              "      <td>4</td>\n",
              "      <td>4 : un, yam, entreprise, garantissant, fruit, ...</td>\n",
              "    </tr>\n",
              "    <tr>\n",
              "      <th>5</th>\n",
              "      <td>5</td>\n",
              "      <td>5 : forme, yam, globale, garantissant, fruit, ...</td>\n",
              "    </tr>\n",
              "    <tr>\n",
              "      <th>6</th>\n",
              "      <td>6</td>\n",
              "      <td>6 : partie, entreprise, generale, garantissant...</td>\n",
              "    </tr>\n",
              "    <tr>\n",
              "      <th>7</th>\n",
              "      <td>7</td>\n",
              "      <td>7 : presentons, yam, generale, garantissant, f...</td>\n",
              "    </tr>\n",
              "    <tr>\n",
              "      <th>8</th>\n",
              "      <td>8</td>\n",
              "      <td>8 : cognitif, globale, garantissant, fruit, fo...</td>\n",
              "    </tr>\n",
              "    <tr>\n",
              "      <th>9</th>\n",
              "      <td>9</td>\n",
              "      <td>9 : grande, yam, entreprise, garantissant, fru...</td>\n",
              "    </tr>\n",
              "    <tr>\n",
              "      <th>10</th>\n",
              "      <td>10</td>\n",
              "      <td>10 : particulierement, yam, entreprise, genera...</td>\n",
              "    </tr>\n",
              "    <tr>\n",
              "      <th>11</th>\n",
              "      <td>11</td>\n",
              "      <td>11 : arrivait, yam, eviter, generale, garantis...</td>\n",
              "    </tr>\n",
              "    <tr>\n",
              "      <th>12</th>\n",
              "      <td>12</td>\n",
              "      <td>12 : texte, yam, entreprise, garantissant, fru...</td>\n",
              "    </tr>\n",
              "    <tr>\n",
              "      <th>13</th>\n",
              "      <td>13</td>\n",
              "      <td>13 : droite, yam, entreprise, garantissant, fr...</td>\n",
              "    </tr>\n",
              "    <tr>\n",
              "      <th>14</th>\n",
              "      <td>14</td>\n",
              "      <td>14 : systeme, yam, entreprise, garantissant, f...</td>\n",
              "    </tr>\n",
              "  </tbody>\n",
              "</table>\n",
              "</div>"
            ],
            "text/plain": [
              "    nb_clusters                                     clusters_words\n",
              "0             0  0 : relative, analyse, traitement, article, im...\n",
              "1             1  1 : exemple, yam, globale, garantissant, fruit...\n",
              "2             2  2 : 90, yam, entreprise, generale, garantissan...\n",
              "3             3  3 : automatique, yam, globale, garantissant, f...\n",
              "4             4  4 : un, yam, entreprise, garantissant, fruit, ...\n",
              "5             5  5 : forme, yam, globale, garantissant, fruit, ...\n",
              "6             6  6 : partie, entreprise, generale, garantissant...\n",
              "7             7  7 : presentons, yam, generale, garantissant, f...\n",
              "8             8  8 : cognitif, globale, garantissant, fruit, fo...\n",
              "9             9  9 : grande, yam, entreprise, garantissant, fru...\n",
              "10           10  10 : particulierement, yam, entreprise, genera...\n",
              "11           11  11 : arrivait, yam, eviter, generale, garantis...\n",
              "12           12  12 : texte, yam, entreprise, garantissant, fru...\n",
              "13           13  13 : droite, yam, entreprise, garantissant, fr...\n",
              "14           14  14 : systeme, yam, entreprise, garantissant, f..."
            ]
          },
          "metadata": {
            "tags": []
          },
          "execution_count": 187
        }
      ]
    },
    {
      "cell_type": "code",
      "metadata": {
        "id": "c_hiZMBgRiHK"
      },
      "source": [
        "for k in range(0,len(df_clusters)):\n",
        "  text = "
      ],
      "execution_count": null,
      "outputs": []
    },
    {
      "cell_type": "code",
      "metadata": {
        "colab": {
          "base_uri": "https://localhost:8080/",
          "height": 126
        },
        "id": "ejniGVqnWCuu",
        "outputId": "6f9be3b7-7d07-41e9-eb41-f7e54ab2e917"
      },
      "source": [
        "kmeans = cluster.KMeans(\n",
        "    n_clusters = 8,\n",
        "    init = 'k-means++',\n",
        "    max_iter=200,\n",
        "    n_init=20,\n",
        "    random_state=42\n",
        ")\n",
        "kmeans.fit(np.array(list(vectorizer))"
      ],
      "execution_count": null,
      "outputs": [
        {
          "output_type": "error",
          "ename": "SyntaxError",
          "evalue": "ignored",
          "traceback": [
            "\u001b[0;36m  File \u001b[0;32m\"<ipython-input-196-04c4c8ab4618>\"\u001b[0;36m, line \u001b[0;32m8\u001b[0m\n\u001b[0;31m    kmeans.fit(np.array(list(vectorizer))\u001b[0m\n\u001b[0m                                         ^\u001b[0m\n\u001b[0;31mSyntaxError\u001b[0m\u001b[0;31m:\u001b[0m unexpected EOF while parsing\n"
          ]
        }
      ]
    },
    {
      "cell_type": "code",
      "metadata": {
        "id": "r5C__nB5Wcse"
      },
      "source": [
        "vectorizer = TfidfVectorizer()\n",
        "vectors = vectorizer.fit_transform(test3)\n",
        "feature_names = vectorizer.get_feature_names()\n",
        "\n",
        "df_test = pd.DataFrame(data = vectors.toarray(), columns=vectorizer.get_feature_names())\n"
      ],
      "execution_count": null,
      "outputs": []
    },
    {
      "cell_type": "code",
      "metadata": {
        "colab": {
          "base_uri": "https://localhost:8080/",
          "height": 411
        },
        "id": "PoysKUpHXlue",
        "outputId": "514b85dd-2f7b-4b27-f9a3-441cbda84080"
      },
      "source": [
        "df_test"
      ],
      "execution_count": null,
      "outputs": [
        {
          "output_type": "execute_result",
          "data": {
            "text/html": [
              "<div>\n",
              "<style scoped>\n",
              "    .dataframe tbody tr th:only-of-type {\n",
              "        vertical-align: middle;\n",
              "    }\n",
              "\n",
              "    .dataframe tbody tr th {\n",
              "        vertical-align: top;\n",
              "    }\n",
              "\n",
              "    .dataframe thead th {\n",
              "        text-align: right;\n",
              "    }\n",
              "</style>\n",
              "<table border=\"1\" class=\"dataframe\">\n",
              "  <thead>\n",
              "    <tr style=\"text-align: right;\">\n",
              "      <th></th>\n",
              "      <th>87</th>\n",
              "      <th>90</th>\n",
              "      <th>92</th>\n",
              "      <th>93</th>\n",
              "      <th>94</th>\n",
              "      <th>95</th>\n",
              "      <th>accidents</th>\n",
              "      <th>adoptee</th>\n",
              "      <th>ai</th>\n",
              "      <th>ainsi</th>\n",
              "      <th>analyse</th>\n",
              "      <th>animation</th>\n",
              "      <th>applicative</th>\n",
              "      <th>approches</th>\n",
              "      <th>appui</th>\n",
              "      <th>appuie</th>\n",
              "      <th>architecture</th>\n",
              "      <th>arn</th>\n",
              "      <th>arrivait</th>\n",
              "      <th>arrivant</th>\n",
              "      <th>article</th>\n",
              "      <th>articulation</th>\n",
              "      <th>aur</th>\n",
              "      <th>automatique</th>\n",
              "      <th>aux</th>\n",
              "      <th>calcul</th>\n",
              "      <th>certain</th>\n",
              "      <th>cet</th>\n",
              "      <th>chaussee</th>\n",
              "      <th>circulation</th>\n",
              "      <th>cognitif</th>\n",
              "      <th>cognitive</th>\n",
              "      <th>collaboration</th>\n",
              "      <th>comme</th>\n",
              "      <th>compatibles</th>\n",
              "      <th>completement</th>\n",
              "      <th>connaissances</th>\n",
              "      <th>considerons</th>\n",
              "      <th>constats</th>\n",
              "      <th>construire</th>\n",
              "      <th>...</th>\n",
              "      <th>segmentation</th>\n",
              "      <th>sequences</th>\n",
              "      <th>serrant</th>\n",
              "      <th>significations</th>\n",
              "      <th>solution</th>\n",
              "      <th>sous</th>\n",
              "      <th>spatio</th>\n",
              "      <th>sprint</th>\n",
              "      <th>suivant</th>\n",
              "      <th>systeme</th>\n",
              "      <th>tache</th>\n",
              "      <th>temporelles</th>\n",
              "      <th>texte</th>\n",
              "      <th>textes</th>\n",
              "      <th>traitement</th>\n",
              "      <th>traitons</th>\n",
              "      <th>transcription</th>\n",
              "      <th>transferts</th>\n",
              "      <th>travail</th>\n",
              "      <th>travaux</th>\n",
              "      <th>travers</th>\n",
              "      <th>troisieme</th>\n",
              "      <th>un</th>\n",
              "      <th>une</th>\n",
              "      <th>universitaire</th>\n",
              "      <th>universite</th>\n",
              "      <th>van</th>\n",
              "      <th>vandeloise</th>\n",
              "      <th>vehicule</th>\n",
              "      <th>vehicules</th>\n",
              "      <th>verbal</th>\n",
              "      <th>verbales</th>\n",
              "      <th>victorri</th>\n",
              "      <th>virage</th>\n",
              "      <th>visant</th>\n",
              "      <th>vise</th>\n",
              "      <th>visuelle</th>\n",
              "      <th>vitesse</th>\n",
              "      <th>voiture</th>\n",
              "      <th>yam</th>\n",
              "    </tr>\n",
              "  </thead>\n",
              "  <tbody>\n",
              "    <tr>\n",
              "      <th>0</th>\n",
              "      <td>0.0</td>\n",
              "      <td>0.0</td>\n",
              "      <td>0.0</td>\n",
              "      <td>0.0</td>\n",
              "      <td>0.0</td>\n",
              "      <td>0.0</td>\n",
              "      <td>0.0</td>\n",
              "      <td>0.0</td>\n",
              "      <td>0.0</td>\n",
              "      <td>0.0</td>\n",
              "      <td>0.0</td>\n",
              "      <td>0.0</td>\n",
              "      <td>0.0</td>\n",
              "      <td>0.0</td>\n",
              "      <td>0.0</td>\n",
              "      <td>0.0</td>\n",
              "      <td>0.0</td>\n",
              "      <td>0.0</td>\n",
              "      <td>0.0</td>\n",
              "      <td>0.0</td>\n",
              "      <td>0.0</td>\n",
              "      <td>0.0</td>\n",
              "      <td>0.0</td>\n",
              "      <td>0.0</td>\n",
              "      <td>0.0</td>\n",
              "      <td>0.0</td>\n",
              "      <td>0.0</td>\n",
              "      <td>0.0</td>\n",
              "      <td>0.0</td>\n",
              "      <td>0.0</td>\n",
              "      <td>0.0</td>\n",
              "      <td>0.0</td>\n",
              "      <td>0.0</td>\n",
              "      <td>0.0</td>\n",
              "      <td>0.0</td>\n",
              "      <td>0.0</td>\n",
              "      <td>0.0</td>\n",
              "      <td>1.0</td>\n",
              "      <td>0.0</td>\n",
              "      <td>0.0</td>\n",
              "      <td>...</td>\n",
              "      <td>0.0</td>\n",
              "      <td>0.0</td>\n",
              "      <td>0.0</td>\n",
              "      <td>0.0</td>\n",
              "      <td>0.0</td>\n",
              "      <td>0.0</td>\n",
              "      <td>0.0</td>\n",
              "      <td>0.0</td>\n",
              "      <td>0.0</td>\n",
              "      <td>0.0</td>\n",
              "      <td>0.0</td>\n",
              "      <td>0.0</td>\n",
              "      <td>0.0</td>\n",
              "      <td>0.0</td>\n",
              "      <td>0.0</td>\n",
              "      <td>0.0</td>\n",
              "      <td>0.0</td>\n",
              "      <td>0.0</td>\n",
              "      <td>0.0</td>\n",
              "      <td>0.0</td>\n",
              "      <td>0.0</td>\n",
              "      <td>0.0</td>\n",
              "      <td>0.0</td>\n",
              "      <td>0.0</td>\n",
              "      <td>0.0</td>\n",
              "      <td>0.0</td>\n",
              "      <td>0.0</td>\n",
              "      <td>0.0</td>\n",
              "      <td>0.0</td>\n",
              "      <td>0.0</td>\n",
              "      <td>0.0</td>\n",
              "      <td>0.0</td>\n",
              "      <td>0.0</td>\n",
              "      <td>0.0</td>\n",
              "      <td>0.0</td>\n",
              "      <td>0.0</td>\n",
              "      <td>0.0</td>\n",
              "      <td>0.0</td>\n",
              "      <td>0.0</td>\n",
              "      <td>0.0</td>\n",
              "    </tr>\n",
              "    <tr>\n",
              "      <th>1</th>\n",
              "      <td>0.0</td>\n",
              "      <td>0.0</td>\n",
              "      <td>0.0</td>\n",
              "      <td>0.0</td>\n",
              "      <td>0.0</td>\n",
              "      <td>0.0</td>\n",
              "      <td>0.0</td>\n",
              "      <td>0.0</td>\n",
              "      <td>0.0</td>\n",
              "      <td>0.0</td>\n",
              "      <td>0.0</td>\n",
              "      <td>0.0</td>\n",
              "      <td>0.0</td>\n",
              "      <td>0.0</td>\n",
              "      <td>0.0</td>\n",
              "      <td>0.0</td>\n",
              "      <td>0.0</td>\n",
              "      <td>0.0</td>\n",
              "      <td>0.0</td>\n",
              "      <td>0.0</td>\n",
              "      <td>0.0</td>\n",
              "      <td>0.0</td>\n",
              "      <td>0.0</td>\n",
              "      <td>0.0</td>\n",
              "      <td>0.0</td>\n",
              "      <td>0.0</td>\n",
              "      <td>0.0</td>\n",
              "      <td>0.0</td>\n",
              "      <td>0.0</td>\n",
              "      <td>0.0</td>\n",
              "      <td>0.0</td>\n",
              "      <td>0.0</td>\n",
              "      <td>0.0</td>\n",
              "      <td>0.0</td>\n",
              "      <td>0.0</td>\n",
              "      <td>0.0</td>\n",
              "      <td>0.0</td>\n",
              "      <td>0.0</td>\n",
              "      <td>0.0</td>\n",
              "      <td>0.0</td>\n",
              "      <td>...</td>\n",
              "      <td>0.0</td>\n",
              "      <td>0.0</td>\n",
              "      <td>0.0</td>\n",
              "      <td>0.0</td>\n",
              "      <td>0.0</td>\n",
              "      <td>0.0</td>\n",
              "      <td>0.0</td>\n",
              "      <td>0.0</td>\n",
              "      <td>0.0</td>\n",
              "      <td>0.0</td>\n",
              "      <td>0.0</td>\n",
              "      <td>0.0</td>\n",
              "      <td>0.0</td>\n",
              "      <td>0.0</td>\n",
              "      <td>0.0</td>\n",
              "      <td>0.0</td>\n",
              "      <td>0.0</td>\n",
              "      <td>0.0</td>\n",
              "      <td>1.0</td>\n",
              "      <td>0.0</td>\n",
              "      <td>0.0</td>\n",
              "      <td>0.0</td>\n",
              "      <td>0.0</td>\n",
              "      <td>0.0</td>\n",
              "      <td>0.0</td>\n",
              "      <td>0.0</td>\n",
              "      <td>0.0</td>\n",
              "      <td>0.0</td>\n",
              "      <td>0.0</td>\n",
              "      <td>0.0</td>\n",
              "      <td>0.0</td>\n",
              "      <td>0.0</td>\n",
              "      <td>0.0</td>\n",
              "      <td>0.0</td>\n",
              "      <td>0.0</td>\n",
              "      <td>0.0</td>\n",
              "      <td>0.0</td>\n",
              "      <td>0.0</td>\n",
              "      <td>0.0</td>\n",
              "      <td>0.0</td>\n",
              "    </tr>\n",
              "    <tr>\n",
              "      <th>2</th>\n",
              "      <td>0.0</td>\n",
              "      <td>0.0</td>\n",
              "      <td>0.0</td>\n",
              "      <td>0.0</td>\n",
              "      <td>0.0</td>\n",
              "      <td>0.0</td>\n",
              "      <td>0.0</td>\n",
              "      <td>0.0</td>\n",
              "      <td>0.0</td>\n",
              "      <td>0.0</td>\n",
              "      <td>0.0</td>\n",
              "      <td>0.0</td>\n",
              "      <td>0.0</td>\n",
              "      <td>0.0</td>\n",
              "      <td>0.0</td>\n",
              "      <td>0.0</td>\n",
              "      <td>0.0</td>\n",
              "      <td>0.0</td>\n",
              "      <td>0.0</td>\n",
              "      <td>0.0</td>\n",
              "      <td>0.0</td>\n",
              "      <td>0.0</td>\n",
              "      <td>0.0</td>\n",
              "      <td>0.0</td>\n",
              "      <td>0.0</td>\n",
              "      <td>0.0</td>\n",
              "      <td>0.0</td>\n",
              "      <td>0.0</td>\n",
              "      <td>0.0</td>\n",
              "      <td>0.0</td>\n",
              "      <td>0.0</td>\n",
              "      <td>0.0</td>\n",
              "      <td>0.0</td>\n",
              "      <td>0.0</td>\n",
              "      <td>0.0</td>\n",
              "      <td>0.0</td>\n",
              "      <td>0.0</td>\n",
              "      <td>0.0</td>\n",
              "      <td>0.0</td>\n",
              "      <td>0.0</td>\n",
              "      <td>...</td>\n",
              "      <td>0.0</td>\n",
              "      <td>0.0</td>\n",
              "      <td>0.0</td>\n",
              "      <td>0.0</td>\n",
              "      <td>0.0</td>\n",
              "      <td>0.0</td>\n",
              "      <td>0.0</td>\n",
              "      <td>0.0</td>\n",
              "      <td>0.0</td>\n",
              "      <td>0.0</td>\n",
              "      <td>1.0</td>\n",
              "      <td>0.0</td>\n",
              "      <td>0.0</td>\n",
              "      <td>0.0</td>\n",
              "      <td>0.0</td>\n",
              "      <td>0.0</td>\n",
              "      <td>0.0</td>\n",
              "      <td>0.0</td>\n",
              "      <td>0.0</td>\n",
              "      <td>0.0</td>\n",
              "      <td>0.0</td>\n",
              "      <td>0.0</td>\n",
              "      <td>0.0</td>\n",
              "      <td>0.0</td>\n",
              "      <td>0.0</td>\n",
              "      <td>0.0</td>\n",
              "      <td>0.0</td>\n",
              "      <td>0.0</td>\n",
              "      <td>0.0</td>\n",
              "      <td>0.0</td>\n",
              "      <td>0.0</td>\n",
              "      <td>0.0</td>\n",
              "      <td>0.0</td>\n",
              "      <td>0.0</td>\n",
              "      <td>0.0</td>\n",
              "      <td>0.0</td>\n",
              "      <td>0.0</td>\n",
              "      <td>0.0</td>\n",
              "      <td>0.0</td>\n",
              "      <td>0.0</td>\n",
              "    </tr>\n",
              "    <tr>\n",
              "      <th>3</th>\n",
              "      <td>0.0</td>\n",
              "      <td>0.0</td>\n",
              "      <td>0.0</td>\n",
              "      <td>0.0</td>\n",
              "      <td>0.0</td>\n",
              "      <td>0.0</td>\n",
              "      <td>0.0</td>\n",
              "      <td>0.0</td>\n",
              "      <td>0.0</td>\n",
              "      <td>0.0</td>\n",
              "      <td>0.0</td>\n",
              "      <td>0.0</td>\n",
              "      <td>0.0</td>\n",
              "      <td>0.0</td>\n",
              "      <td>0.0</td>\n",
              "      <td>0.0</td>\n",
              "      <td>0.0</td>\n",
              "      <td>0.0</td>\n",
              "      <td>0.0</td>\n",
              "      <td>0.0</td>\n",
              "      <td>0.0</td>\n",
              "      <td>0.0</td>\n",
              "      <td>0.0</td>\n",
              "      <td>0.0</td>\n",
              "      <td>0.0</td>\n",
              "      <td>0.0</td>\n",
              "      <td>0.0</td>\n",
              "      <td>0.0</td>\n",
              "      <td>0.0</td>\n",
              "      <td>0.0</td>\n",
              "      <td>0.0</td>\n",
              "      <td>0.0</td>\n",
              "      <td>0.0</td>\n",
              "      <td>0.0</td>\n",
              "      <td>0.0</td>\n",
              "      <td>0.0</td>\n",
              "      <td>0.0</td>\n",
              "      <td>0.0</td>\n",
              "      <td>0.0</td>\n",
              "      <td>0.0</td>\n",
              "      <td>...</td>\n",
              "      <td>0.0</td>\n",
              "      <td>0.0</td>\n",
              "      <td>0.0</td>\n",
              "      <td>0.0</td>\n",
              "      <td>0.0</td>\n",
              "      <td>0.0</td>\n",
              "      <td>0.0</td>\n",
              "      <td>0.0</td>\n",
              "      <td>0.0</td>\n",
              "      <td>0.0</td>\n",
              "      <td>0.0</td>\n",
              "      <td>0.0</td>\n",
              "      <td>0.0</td>\n",
              "      <td>0.0</td>\n",
              "      <td>1.0</td>\n",
              "      <td>0.0</td>\n",
              "      <td>0.0</td>\n",
              "      <td>0.0</td>\n",
              "      <td>0.0</td>\n",
              "      <td>0.0</td>\n",
              "      <td>0.0</td>\n",
              "      <td>0.0</td>\n",
              "      <td>0.0</td>\n",
              "      <td>0.0</td>\n",
              "      <td>0.0</td>\n",
              "      <td>0.0</td>\n",
              "      <td>0.0</td>\n",
              "      <td>0.0</td>\n",
              "      <td>0.0</td>\n",
              "      <td>0.0</td>\n",
              "      <td>0.0</td>\n",
              "      <td>0.0</td>\n",
              "      <td>0.0</td>\n",
              "      <td>0.0</td>\n",
              "      <td>0.0</td>\n",
              "      <td>0.0</td>\n",
              "      <td>0.0</td>\n",
              "      <td>0.0</td>\n",
              "      <td>0.0</td>\n",
              "      <td>0.0</td>\n",
              "    </tr>\n",
              "    <tr>\n",
              "      <th>4</th>\n",
              "      <td>0.0</td>\n",
              "      <td>0.0</td>\n",
              "      <td>0.0</td>\n",
              "      <td>0.0</td>\n",
              "      <td>0.0</td>\n",
              "      <td>0.0</td>\n",
              "      <td>0.0</td>\n",
              "      <td>0.0</td>\n",
              "      <td>0.0</td>\n",
              "      <td>0.0</td>\n",
              "      <td>0.0</td>\n",
              "      <td>0.0</td>\n",
              "      <td>0.0</td>\n",
              "      <td>0.0</td>\n",
              "      <td>0.0</td>\n",
              "      <td>0.0</td>\n",
              "      <td>0.0</td>\n",
              "      <td>0.0</td>\n",
              "      <td>0.0</td>\n",
              "      <td>0.0</td>\n",
              "      <td>0.0</td>\n",
              "      <td>0.0</td>\n",
              "      <td>0.0</td>\n",
              "      <td>1.0</td>\n",
              "      <td>0.0</td>\n",
              "      <td>0.0</td>\n",
              "      <td>0.0</td>\n",
              "      <td>0.0</td>\n",
              "      <td>0.0</td>\n",
              "      <td>0.0</td>\n",
              "      <td>0.0</td>\n",
              "      <td>0.0</td>\n",
              "      <td>0.0</td>\n",
              "      <td>0.0</td>\n",
              "      <td>0.0</td>\n",
              "      <td>0.0</td>\n",
              "      <td>0.0</td>\n",
              "      <td>0.0</td>\n",
              "      <td>0.0</td>\n",
              "      <td>0.0</td>\n",
              "      <td>...</td>\n",
              "      <td>0.0</td>\n",
              "      <td>0.0</td>\n",
              "      <td>0.0</td>\n",
              "      <td>0.0</td>\n",
              "      <td>0.0</td>\n",
              "      <td>0.0</td>\n",
              "      <td>0.0</td>\n",
              "      <td>0.0</td>\n",
              "      <td>0.0</td>\n",
              "      <td>0.0</td>\n",
              "      <td>0.0</td>\n",
              "      <td>0.0</td>\n",
              "      <td>0.0</td>\n",
              "      <td>0.0</td>\n",
              "      <td>0.0</td>\n",
              "      <td>0.0</td>\n",
              "      <td>0.0</td>\n",
              "      <td>0.0</td>\n",
              "      <td>0.0</td>\n",
              "      <td>0.0</td>\n",
              "      <td>0.0</td>\n",
              "      <td>0.0</td>\n",
              "      <td>0.0</td>\n",
              "      <td>0.0</td>\n",
              "      <td>0.0</td>\n",
              "      <td>0.0</td>\n",
              "      <td>0.0</td>\n",
              "      <td>0.0</td>\n",
              "      <td>0.0</td>\n",
              "      <td>0.0</td>\n",
              "      <td>0.0</td>\n",
              "      <td>0.0</td>\n",
              "      <td>0.0</td>\n",
              "      <td>0.0</td>\n",
              "      <td>0.0</td>\n",
              "      <td>0.0</td>\n",
              "      <td>0.0</td>\n",
              "      <td>0.0</td>\n",
              "      <td>0.0</td>\n",
              "      <td>0.0</td>\n",
              "    </tr>\n",
              "    <tr>\n",
              "      <th>...</th>\n",
              "      <td>...</td>\n",
              "      <td>...</td>\n",
              "      <td>...</td>\n",
              "      <td>...</td>\n",
              "      <td>...</td>\n",
              "      <td>...</td>\n",
              "      <td>...</td>\n",
              "      <td>...</td>\n",
              "      <td>...</td>\n",
              "      <td>...</td>\n",
              "      <td>...</td>\n",
              "      <td>...</td>\n",
              "      <td>...</td>\n",
              "      <td>...</td>\n",
              "      <td>...</td>\n",
              "      <td>...</td>\n",
              "      <td>...</td>\n",
              "      <td>...</td>\n",
              "      <td>...</td>\n",
              "      <td>...</td>\n",
              "      <td>...</td>\n",
              "      <td>...</td>\n",
              "      <td>...</td>\n",
              "      <td>...</td>\n",
              "      <td>...</td>\n",
              "      <td>...</td>\n",
              "      <td>...</td>\n",
              "      <td>...</td>\n",
              "      <td>...</td>\n",
              "      <td>...</td>\n",
              "      <td>...</td>\n",
              "      <td>...</td>\n",
              "      <td>...</td>\n",
              "      <td>...</td>\n",
              "      <td>...</td>\n",
              "      <td>...</td>\n",
              "      <td>...</td>\n",
              "      <td>...</td>\n",
              "      <td>...</td>\n",
              "      <td>...</td>\n",
              "      <td>...</td>\n",
              "      <td>...</td>\n",
              "      <td>...</td>\n",
              "      <td>...</td>\n",
              "      <td>...</td>\n",
              "      <td>...</td>\n",
              "      <td>...</td>\n",
              "      <td>...</td>\n",
              "      <td>...</td>\n",
              "      <td>...</td>\n",
              "      <td>...</td>\n",
              "      <td>...</td>\n",
              "      <td>...</td>\n",
              "      <td>...</td>\n",
              "      <td>...</td>\n",
              "      <td>...</td>\n",
              "      <td>...</td>\n",
              "      <td>...</td>\n",
              "      <td>...</td>\n",
              "      <td>...</td>\n",
              "      <td>...</td>\n",
              "      <td>...</td>\n",
              "      <td>...</td>\n",
              "      <td>...</td>\n",
              "      <td>...</td>\n",
              "      <td>...</td>\n",
              "      <td>...</td>\n",
              "      <td>...</td>\n",
              "      <td>...</td>\n",
              "      <td>...</td>\n",
              "      <td>...</td>\n",
              "      <td>...</td>\n",
              "      <td>...</td>\n",
              "      <td>...</td>\n",
              "      <td>...</td>\n",
              "      <td>...</td>\n",
              "      <td>...</td>\n",
              "      <td>...</td>\n",
              "      <td>...</td>\n",
              "      <td>...</td>\n",
              "      <td>...</td>\n",
              "    </tr>\n",
              "    <tr>\n",
              "      <th>190</th>\n",
              "      <td>0.0</td>\n",
              "      <td>0.0</td>\n",
              "      <td>0.0</td>\n",
              "      <td>0.0</td>\n",
              "      <td>0.0</td>\n",
              "      <td>0.0</td>\n",
              "      <td>0.0</td>\n",
              "      <td>0.0</td>\n",
              "      <td>0.0</td>\n",
              "      <td>0.0</td>\n",
              "      <td>0.0</td>\n",
              "      <td>0.0</td>\n",
              "      <td>0.0</td>\n",
              "      <td>0.0</td>\n",
              "      <td>0.0</td>\n",
              "      <td>0.0</td>\n",
              "      <td>0.0</td>\n",
              "      <td>0.0</td>\n",
              "      <td>0.0</td>\n",
              "      <td>0.0</td>\n",
              "      <td>0.0</td>\n",
              "      <td>0.0</td>\n",
              "      <td>0.0</td>\n",
              "      <td>0.0</td>\n",
              "      <td>0.0</td>\n",
              "      <td>0.0</td>\n",
              "      <td>0.0</td>\n",
              "      <td>0.0</td>\n",
              "      <td>0.0</td>\n",
              "      <td>0.0</td>\n",
              "      <td>0.0</td>\n",
              "      <td>0.0</td>\n",
              "      <td>0.0</td>\n",
              "      <td>0.0</td>\n",
              "      <td>0.0</td>\n",
              "      <td>0.0</td>\n",
              "      <td>0.0</td>\n",
              "      <td>0.0</td>\n",
              "      <td>0.0</td>\n",
              "      <td>0.0</td>\n",
              "      <td>...</td>\n",
              "      <td>0.0</td>\n",
              "      <td>0.0</td>\n",
              "      <td>0.0</td>\n",
              "      <td>0.0</td>\n",
              "      <td>0.0</td>\n",
              "      <td>0.0</td>\n",
              "      <td>0.0</td>\n",
              "      <td>0.0</td>\n",
              "      <td>0.0</td>\n",
              "      <td>0.0</td>\n",
              "      <td>0.0</td>\n",
              "      <td>0.0</td>\n",
              "      <td>0.0</td>\n",
              "      <td>0.0</td>\n",
              "      <td>0.0</td>\n",
              "      <td>0.0</td>\n",
              "      <td>0.0</td>\n",
              "      <td>0.0</td>\n",
              "      <td>0.0</td>\n",
              "      <td>0.0</td>\n",
              "      <td>0.0</td>\n",
              "      <td>0.0</td>\n",
              "      <td>0.0</td>\n",
              "      <td>0.0</td>\n",
              "      <td>0.0</td>\n",
              "      <td>0.0</td>\n",
              "      <td>0.0</td>\n",
              "      <td>0.0</td>\n",
              "      <td>0.0</td>\n",
              "      <td>0.0</td>\n",
              "      <td>0.0</td>\n",
              "      <td>0.0</td>\n",
              "      <td>0.0</td>\n",
              "      <td>0.0</td>\n",
              "      <td>0.0</td>\n",
              "      <td>0.0</td>\n",
              "      <td>0.0</td>\n",
              "      <td>0.0</td>\n",
              "      <td>0.0</td>\n",
              "      <td>0.0</td>\n",
              "    </tr>\n",
              "    <tr>\n",
              "      <th>191</th>\n",
              "      <td>0.0</td>\n",
              "      <td>0.0</td>\n",
              "      <td>0.0</td>\n",
              "      <td>0.0</td>\n",
              "      <td>0.0</td>\n",
              "      <td>0.0</td>\n",
              "      <td>0.0</td>\n",
              "      <td>0.0</td>\n",
              "      <td>0.0</td>\n",
              "      <td>0.0</td>\n",
              "      <td>0.0</td>\n",
              "      <td>0.0</td>\n",
              "      <td>0.0</td>\n",
              "      <td>0.0</td>\n",
              "      <td>0.0</td>\n",
              "      <td>0.0</td>\n",
              "      <td>0.0</td>\n",
              "      <td>0.0</td>\n",
              "      <td>0.0</td>\n",
              "      <td>0.0</td>\n",
              "      <td>0.0</td>\n",
              "      <td>0.0</td>\n",
              "      <td>0.0</td>\n",
              "      <td>0.0</td>\n",
              "      <td>0.0</td>\n",
              "      <td>0.0</td>\n",
              "      <td>0.0</td>\n",
              "      <td>0.0</td>\n",
              "      <td>0.0</td>\n",
              "      <td>0.0</td>\n",
              "      <td>0.0</td>\n",
              "      <td>0.0</td>\n",
              "      <td>0.0</td>\n",
              "      <td>0.0</td>\n",
              "      <td>0.0</td>\n",
              "      <td>0.0</td>\n",
              "      <td>0.0</td>\n",
              "      <td>0.0</td>\n",
              "      <td>0.0</td>\n",
              "      <td>0.0</td>\n",
              "      <td>...</td>\n",
              "      <td>0.0</td>\n",
              "      <td>0.0</td>\n",
              "      <td>0.0</td>\n",
              "      <td>0.0</td>\n",
              "      <td>0.0</td>\n",
              "      <td>0.0</td>\n",
              "      <td>0.0</td>\n",
              "      <td>0.0</td>\n",
              "      <td>0.0</td>\n",
              "      <td>0.0</td>\n",
              "      <td>0.0</td>\n",
              "      <td>0.0</td>\n",
              "      <td>0.0</td>\n",
              "      <td>0.0</td>\n",
              "      <td>0.0</td>\n",
              "      <td>0.0</td>\n",
              "      <td>0.0</td>\n",
              "      <td>0.0</td>\n",
              "      <td>0.0</td>\n",
              "      <td>0.0</td>\n",
              "      <td>0.0</td>\n",
              "      <td>0.0</td>\n",
              "      <td>0.0</td>\n",
              "      <td>0.0</td>\n",
              "      <td>0.0</td>\n",
              "      <td>0.0</td>\n",
              "      <td>0.0</td>\n",
              "      <td>0.0</td>\n",
              "      <td>0.0</td>\n",
              "      <td>1.0</td>\n",
              "      <td>0.0</td>\n",
              "      <td>0.0</td>\n",
              "      <td>0.0</td>\n",
              "      <td>0.0</td>\n",
              "      <td>0.0</td>\n",
              "      <td>0.0</td>\n",
              "      <td>0.0</td>\n",
              "      <td>0.0</td>\n",
              "      <td>0.0</td>\n",
              "      <td>0.0</td>\n",
              "    </tr>\n",
              "    <tr>\n",
              "      <th>192</th>\n",
              "      <td>0.0</td>\n",
              "      <td>0.0</td>\n",
              "      <td>0.0</td>\n",
              "      <td>0.0</td>\n",
              "      <td>0.0</td>\n",
              "      <td>0.0</td>\n",
              "      <td>0.0</td>\n",
              "      <td>0.0</td>\n",
              "      <td>0.0</td>\n",
              "      <td>0.0</td>\n",
              "      <td>0.0</td>\n",
              "      <td>0.0</td>\n",
              "      <td>0.0</td>\n",
              "      <td>0.0</td>\n",
              "      <td>0.0</td>\n",
              "      <td>0.0</td>\n",
              "      <td>0.0</td>\n",
              "      <td>0.0</td>\n",
              "      <td>0.0</td>\n",
              "      <td>0.0</td>\n",
              "      <td>0.0</td>\n",
              "      <td>0.0</td>\n",
              "      <td>0.0</td>\n",
              "      <td>0.0</td>\n",
              "      <td>0.0</td>\n",
              "      <td>0.0</td>\n",
              "      <td>0.0</td>\n",
              "      <td>0.0</td>\n",
              "      <td>0.0</td>\n",
              "      <td>0.0</td>\n",
              "      <td>0.0</td>\n",
              "      <td>0.0</td>\n",
              "      <td>0.0</td>\n",
              "      <td>0.0</td>\n",
              "      <td>0.0</td>\n",
              "      <td>0.0</td>\n",
              "      <td>0.0</td>\n",
              "      <td>0.0</td>\n",
              "      <td>0.0</td>\n",
              "      <td>0.0</td>\n",
              "      <td>...</td>\n",
              "      <td>0.0</td>\n",
              "      <td>0.0</td>\n",
              "      <td>0.0</td>\n",
              "      <td>0.0</td>\n",
              "      <td>0.0</td>\n",
              "      <td>0.0</td>\n",
              "      <td>0.0</td>\n",
              "      <td>0.0</td>\n",
              "      <td>0.0</td>\n",
              "      <td>0.0</td>\n",
              "      <td>0.0</td>\n",
              "      <td>0.0</td>\n",
              "      <td>0.0</td>\n",
              "      <td>0.0</td>\n",
              "      <td>0.0</td>\n",
              "      <td>0.0</td>\n",
              "      <td>0.0</td>\n",
              "      <td>0.0</td>\n",
              "      <td>0.0</td>\n",
              "      <td>0.0</td>\n",
              "      <td>0.0</td>\n",
              "      <td>0.0</td>\n",
              "      <td>0.0</td>\n",
              "      <td>0.0</td>\n",
              "      <td>0.0</td>\n",
              "      <td>0.0</td>\n",
              "      <td>0.0</td>\n",
              "      <td>0.0</td>\n",
              "      <td>0.0</td>\n",
              "      <td>0.0</td>\n",
              "      <td>0.0</td>\n",
              "      <td>0.0</td>\n",
              "      <td>0.0</td>\n",
              "      <td>0.0</td>\n",
              "      <td>0.0</td>\n",
              "      <td>0.0</td>\n",
              "      <td>0.0</td>\n",
              "      <td>0.0</td>\n",
              "      <td>0.0</td>\n",
              "      <td>0.0</td>\n",
              "    </tr>\n",
              "    <tr>\n",
              "      <th>193</th>\n",
              "      <td>0.0</td>\n",
              "      <td>0.0</td>\n",
              "      <td>0.0</td>\n",
              "      <td>0.0</td>\n",
              "      <td>0.0</td>\n",
              "      <td>0.0</td>\n",
              "      <td>0.0</td>\n",
              "      <td>0.0</td>\n",
              "      <td>0.0</td>\n",
              "      <td>0.0</td>\n",
              "      <td>0.0</td>\n",
              "      <td>0.0</td>\n",
              "      <td>0.0</td>\n",
              "      <td>0.0</td>\n",
              "      <td>0.0</td>\n",
              "      <td>0.0</td>\n",
              "      <td>0.0</td>\n",
              "      <td>0.0</td>\n",
              "      <td>0.0</td>\n",
              "      <td>0.0</td>\n",
              "      <td>0.0</td>\n",
              "      <td>0.0</td>\n",
              "      <td>0.0</td>\n",
              "      <td>0.0</td>\n",
              "      <td>0.0</td>\n",
              "      <td>0.0</td>\n",
              "      <td>0.0</td>\n",
              "      <td>0.0</td>\n",
              "      <td>0.0</td>\n",
              "      <td>0.0</td>\n",
              "      <td>0.0</td>\n",
              "      <td>0.0</td>\n",
              "      <td>0.0</td>\n",
              "      <td>0.0</td>\n",
              "      <td>0.0</td>\n",
              "      <td>0.0</td>\n",
              "      <td>0.0</td>\n",
              "      <td>0.0</td>\n",
              "      <td>0.0</td>\n",
              "      <td>0.0</td>\n",
              "      <td>...</td>\n",
              "      <td>0.0</td>\n",
              "      <td>0.0</td>\n",
              "      <td>0.0</td>\n",
              "      <td>0.0</td>\n",
              "      <td>0.0</td>\n",
              "      <td>0.0</td>\n",
              "      <td>0.0</td>\n",
              "      <td>0.0</td>\n",
              "      <td>0.0</td>\n",
              "      <td>0.0</td>\n",
              "      <td>0.0</td>\n",
              "      <td>0.0</td>\n",
              "      <td>0.0</td>\n",
              "      <td>0.0</td>\n",
              "      <td>0.0</td>\n",
              "      <td>0.0</td>\n",
              "      <td>0.0</td>\n",
              "      <td>0.0</td>\n",
              "      <td>0.0</td>\n",
              "      <td>0.0</td>\n",
              "      <td>0.0</td>\n",
              "      <td>0.0</td>\n",
              "      <td>0.0</td>\n",
              "      <td>0.0</td>\n",
              "      <td>0.0</td>\n",
              "      <td>0.0</td>\n",
              "      <td>0.0</td>\n",
              "      <td>0.0</td>\n",
              "      <td>0.0</td>\n",
              "      <td>0.0</td>\n",
              "      <td>0.0</td>\n",
              "      <td>0.0</td>\n",
              "      <td>0.0</td>\n",
              "      <td>0.0</td>\n",
              "      <td>0.0</td>\n",
              "      <td>0.0</td>\n",
              "      <td>0.0</td>\n",
              "      <td>0.0</td>\n",
              "      <td>0.0</td>\n",
              "      <td>0.0</td>\n",
              "    </tr>\n",
              "    <tr>\n",
              "      <th>194</th>\n",
              "      <td>0.0</td>\n",
              "      <td>0.0</td>\n",
              "      <td>0.0</td>\n",
              "      <td>0.0</td>\n",
              "      <td>0.0</td>\n",
              "      <td>0.0</td>\n",
              "      <td>0.0</td>\n",
              "      <td>0.0</td>\n",
              "      <td>0.0</td>\n",
              "      <td>0.0</td>\n",
              "      <td>0.0</td>\n",
              "      <td>0.0</td>\n",
              "      <td>0.0</td>\n",
              "      <td>0.0</td>\n",
              "      <td>0.0</td>\n",
              "      <td>0.0</td>\n",
              "      <td>0.0</td>\n",
              "      <td>0.0</td>\n",
              "      <td>0.0</td>\n",
              "      <td>0.0</td>\n",
              "      <td>0.0</td>\n",
              "      <td>0.0</td>\n",
              "      <td>0.0</td>\n",
              "      <td>0.0</td>\n",
              "      <td>0.0</td>\n",
              "      <td>0.0</td>\n",
              "      <td>0.0</td>\n",
              "      <td>0.0</td>\n",
              "      <td>0.0</td>\n",
              "      <td>0.0</td>\n",
              "      <td>0.0</td>\n",
              "      <td>0.0</td>\n",
              "      <td>0.0</td>\n",
              "      <td>0.0</td>\n",
              "      <td>0.0</td>\n",
              "      <td>0.0</td>\n",
              "      <td>0.0</td>\n",
              "      <td>0.0</td>\n",
              "      <td>0.0</td>\n",
              "      <td>0.0</td>\n",
              "      <td>...</td>\n",
              "      <td>0.0</td>\n",
              "      <td>0.0</td>\n",
              "      <td>0.0</td>\n",
              "      <td>0.0</td>\n",
              "      <td>0.0</td>\n",
              "      <td>0.0</td>\n",
              "      <td>0.0</td>\n",
              "      <td>0.0</td>\n",
              "      <td>0.0</td>\n",
              "      <td>0.0</td>\n",
              "      <td>0.0</td>\n",
              "      <td>0.0</td>\n",
              "      <td>0.0</td>\n",
              "      <td>0.0</td>\n",
              "      <td>0.0</td>\n",
              "      <td>0.0</td>\n",
              "      <td>0.0</td>\n",
              "      <td>0.0</td>\n",
              "      <td>0.0</td>\n",
              "      <td>0.0</td>\n",
              "      <td>0.0</td>\n",
              "      <td>0.0</td>\n",
              "      <td>0.0</td>\n",
              "      <td>0.0</td>\n",
              "      <td>0.0</td>\n",
              "      <td>0.0</td>\n",
              "      <td>0.0</td>\n",
              "      <td>0.0</td>\n",
              "      <td>0.0</td>\n",
              "      <td>0.0</td>\n",
              "      <td>0.0</td>\n",
              "      <td>0.0</td>\n",
              "      <td>0.0</td>\n",
              "      <td>0.0</td>\n",
              "      <td>0.0</td>\n",
              "      <td>0.0</td>\n",
              "      <td>0.0</td>\n",
              "      <td>0.0</td>\n",
              "      <td>0.0</td>\n",
              "      <td>0.0</td>\n",
              "    </tr>\n",
              "  </tbody>\n",
              "</table>\n",
              "<p>195 rows × 165 columns</p>\n",
              "</div>"
            ],
            "text/plain": [
              "      87   90   92   93   94  ...  vise  visuelle  vitesse  voiture  yam\n",
              "0    0.0  0.0  0.0  0.0  0.0  ...   0.0       0.0      0.0      0.0  0.0\n",
              "1    0.0  0.0  0.0  0.0  0.0  ...   0.0       0.0      0.0      0.0  0.0\n",
              "2    0.0  0.0  0.0  0.0  0.0  ...   0.0       0.0      0.0      0.0  0.0\n",
              "3    0.0  0.0  0.0  0.0  0.0  ...   0.0       0.0      0.0      0.0  0.0\n",
              "4    0.0  0.0  0.0  0.0  0.0  ...   0.0       0.0      0.0      0.0  0.0\n",
              "..   ...  ...  ...  ...  ...  ...   ...       ...      ...      ...  ...\n",
              "190  0.0  0.0  0.0  0.0  0.0  ...   0.0       0.0      0.0      0.0  0.0\n",
              "191  0.0  0.0  0.0  0.0  0.0  ...   0.0       0.0      0.0      0.0  0.0\n",
              "192  0.0  0.0  0.0  0.0  0.0  ...   0.0       0.0      0.0      0.0  0.0\n",
              "193  0.0  0.0  0.0  0.0  0.0  ...   0.0       0.0      0.0      0.0  0.0\n",
              "194  0.0  0.0  0.0  0.0  0.0  ...   0.0       0.0      0.0      0.0  0.0\n",
              "\n",
              "[195 rows x 165 columns]"
            ]
          },
          "metadata": {
            "tags": []
          },
          "execution_count": 202
        }
      ]
    },
    {
      "cell_type": "code",
      "metadata": {
        "colab": {
          "base_uri": "https://localhost:8080/",
          "height": 288
        },
        "id": "CO_Miyo6XzmQ",
        "outputId": "7c0e1e1f-26a5-4f09-e7e1-620d375430e2"
      },
      "source": [
        "teste = df_test.tolist()\n",
        "teste"
      ],
      "execution_count": null,
      "outputs": [
        {
          "output_type": "error",
          "ename": "AttributeError",
          "evalue": "ignored",
          "traceback": [
            "\u001b[0;31m---------------------------------------------------------------------------\u001b[0m",
            "\u001b[0;31mAttributeError\u001b[0m                            Traceback (most recent call last)",
            "\u001b[0;32m<ipython-input-200-86e3bc44b834>\u001b[0m in \u001b[0;36m<module>\u001b[0;34m()\u001b[0m\n\u001b[0;32m----> 1\u001b[0;31m \u001b[0mteste\u001b[0m \u001b[0;34m=\u001b[0m \u001b[0mdf_test\u001b[0m\u001b[0;34m.\u001b[0m\u001b[0mtolist\u001b[0m\u001b[0;34m(\u001b[0m\u001b[0;34m)\u001b[0m\u001b[0;34m\u001b[0m\u001b[0;34m\u001b[0m\u001b[0m\n\u001b[0m\u001b[1;32m      2\u001b[0m \u001b[0mteste\u001b[0m\u001b[0;34m\u001b[0m\u001b[0;34m\u001b[0m\u001b[0m\n",
            "\u001b[0;32m/usr/local/lib/python3.6/dist-packages/pandas/core/generic.py\u001b[0m in \u001b[0;36m__getattr__\u001b[0;34m(self, name)\u001b[0m\n\u001b[1;32m   5137\u001b[0m             \u001b[0;32mif\u001b[0m \u001b[0mself\u001b[0m\u001b[0;34m.\u001b[0m\u001b[0m_info_axis\u001b[0m\u001b[0;34m.\u001b[0m\u001b[0m_can_hold_identifiers_and_holds_name\u001b[0m\u001b[0;34m(\u001b[0m\u001b[0mname\u001b[0m\u001b[0;34m)\u001b[0m\u001b[0;34m:\u001b[0m\u001b[0;34m\u001b[0m\u001b[0;34m\u001b[0m\u001b[0m\n\u001b[1;32m   5138\u001b[0m                 \u001b[0;32mreturn\u001b[0m \u001b[0mself\u001b[0m\u001b[0;34m[\u001b[0m\u001b[0mname\u001b[0m\u001b[0;34m]\u001b[0m\u001b[0;34m\u001b[0m\u001b[0;34m\u001b[0m\u001b[0m\n\u001b[0;32m-> 5139\u001b[0;31m             \u001b[0;32mreturn\u001b[0m \u001b[0mobject\u001b[0m\u001b[0;34m.\u001b[0m\u001b[0m__getattribute__\u001b[0m\u001b[0;34m(\u001b[0m\u001b[0mself\u001b[0m\u001b[0;34m,\u001b[0m \u001b[0mname\u001b[0m\u001b[0;34m)\u001b[0m\u001b[0;34m\u001b[0m\u001b[0;34m\u001b[0m\u001b[0m\n\u001b[0m\u001b[1;32m   5140\u001b[0m \u001b[0;34m\u001b[0m\u001b[0m\n\u001b[1;32m   5141\u001b[0m     \u001b[0;32mdef\u001b[0m \u001b[0m__setattr__\u001b[0m\u001b[0;34m(\u001b[0m\u001b[0mself\u001b[0m\u001b[0;34m,\u001b[0m \u001b[0mname\u001b[0m\u001b[0;34m:\u001b[0m \u001b[0mstr\u001b[0m\u001b[0;34m,\u001b[0m \u001b[0mvalue\u001b[0m\u001b[0;34m)\u001b[0m \u001b[0;34m->\u001b[0m \u001b[0;32mNone\u001b[0m\u001b[0;34m:\u001b[0m\u001b[0;34m\u001b[0m\u001b[0;34m\u001b[0m\u001b[0m\n",
            "\u001b[0;31mAttributeError\u001b[0m: 'DataFrame' object has no attribute 'tolist'"
          ]
        }
      ]
    },
    {
      "cell_type": "code",
      "metadata": {
        "colab": {
          "base_uri": "https://localhost:8080/"
        },
        "id": "v5WYX4j0PYca",
        "outputId": "a2a6b400-9b3a-4ac9-f52d-e01be0f6c6d1"
      },
      "source": [
        "prediction = kmeans.predict(final_df)\n",
        "prediction"
      ],
      "execution_count": null,
      "outputs": [
        {
          "output_type": "execute_result",
          "data": {
            "text/plain": [
              "array([ 0,  0,  0,  0,  0,  0,  0,  0,  0,  0,  6,  0,  0,  0,  0,  0,  0,\n",
              "        0,  0,  0,  0, 11,  0,  0,  0,  0,  0,  1,  0,  8,  0,  0,  0,  0,\n",
              "        0,  0,  0,  0,  0, 13,  0,  0,  0,  0,  0,  0,  0,  8,  0,  0,  0,\n",
              "        0,  0,  9,  0,  0,  0,  0,  0, 14, 13,  0,  0,  0,  0,  0,  0,  0,\n",
              "        0,  0,  0,  0,  0,  0,  0, 13,  0, 12,  0,  0,  0,  0,  0, 14,  0,\n",
              "        3,  0,  0,  0,  0,  0,  0,  0,  0,  0,  0,  0,  0, 12,  0,  0,  0,\n",
              "        0,  0,  0,  0,  5,  7,  0,  0,  0,  6,  0,  0,  0,  0,  0,  0,  0,\n",
              "        0,  0,  0,  0,  0,  0,  0,  0,  2,  0,  0,  0,  0,  0,  0,  0,  0,\n",
              "        0,  0,  0,  0,  0,  0,  0,  0,  4, 10,  0,  0,  0,  0,  0,  9,  0,\n",
              "        4, 10,  0,  2,  0,  5,  0,  0,  3,  0,  0,  2,  0,  0,  0,  0,  0,\n",
              "        0,  0,  0,  0,  0,  0, 11,  1,  0,  0,  0,  0,  0,  0,  0,  2,  5,\n",
              "        0,  0,  0,  0,  0,  0,  0,  0], dtype=int32)"
            ]
          },
          "metadata": {
            "tags": []
          },
          "execution_count": 160
        }
      ]
    },
    {
      "cell_type": "code",
      "metadata": {
        "id": "IS-rcfzYJNRG"
      },
      "source": [
        "import numpy as np\n",
        "def get_top_features_cluster(tf_idf_array, prediction, n_feats):\n",
        "    labels = np.unique(prediction)\n",
        "    dfs = []\n",
        "    for label in labels:\n",
        "        id_temp = np.where(prediction==label) # indices for each cluster\n",
        "        x_means = np.mean(tf_idf_array[id_temp], axis = 0) # returns average score across cluster\n",
        "        sorted_means = np.argsort(x_means)[::-1][:n_feats] # indices with top 20 scores\n",
        "        features = vectorizer.get_feature_names()\n",
        "        best_features = [(features[i], x_means[i]) for i in sorted_means]\n",
        "        df = pd.DataFrame(best_features, columns = ['features', 'score'])\n",
        "        dfs.append(df)\n",
        "    return dfs"
      ],
      "execution_count": null,
      "outputs": []
    },
    {
      "cell_type": "code",
      "metadata": {
        "id": "65cq19DuJdfC"
      },
      "source": [
        "import seaborn as sns\n",
        "def plotWords(dfs, n_feats):\n",
        "    plt.figure(figsize=(8, 4))\n",
        "    for i in range(0, len(dfs)):\n",
        "        plt.title((\"Most Common Words in Cluster {}\".format(i)), fontsize=10, fontweight='bold')\n",
        "        sns.barplot(x = 'score' , y = 'features', orient = 'h' , data = dfs[i][:n_feats])\n",
        "        plt.show()"
      ],
      "execution_count": null,
      "outputs": []
    },
    {
      "cell_type": "code",
      "metadata": {
        "colab": {
          "base_uri": "https://localhost:8080/",
          "height": 1000
        },
        "id": "r0S6dK-cJDME",
        "outputId": "d90a16a9-1477-4de3-eaf4-51f20e16353b"
      },
      "source": [
        "best_result = 5\n",
        "kmeans = kmeans_results.get(best_result)\n",
        "\n",
        "final_df_array = final_df.to_numpy()\n",
        "prediction = kmeans.predict(final_df)\n",
        "n_feats = 20\n",
        "dfs = get_top_features_cluster(final_df_array, prediction, n_feats)\n",
        "plotWords(dfs, 10)"
      ],
      "execution_count": null,
      "outputs": [
        {
          "output_type": "display_data",
          "data": {
            "image/png": "[encoded data removed]",
            "text/plain": [
              "<Figure size 576x288 with 1 Axes>"
            ]
          },
          "metadata": {
            "tags": [],
            "needs_background": "light"
          }
        },
        {
          "output_type": "display_data",
          "data": {
            "image/png": "[encoded data removed]",
            "text/plain": [
              "<Figure size 432x288 with 1 Axes>"
            ]
          },
          "metadata": {
            "tags": [],
            "needs_background": "light"
          }
        },
        {
          "output_type": "display_data",
          "data": {
            "image/png": "[encoded data removed]",
            "text/plain": [
              "<Figure size 432x288 with 1 Axes>"
            ]
          },
          "metadata": {
            "tags": [],
            "needs_background": "light"
          }
        },
        {
          "output_type": "display_data",
          "data": {
            "image/png": "[encoded data removed]",
            "text/plain": [
              "<Figure size 432x288 with 1 Axes>"
            ]
          },
          "metadata": {
            "tags": [],
            "needs_background": "light"
          }
        },
        {
          "output_type": "display_data",
          "data": {
            "image/png": "[encoded data removed]",
            "text/plain": [
              "<Figure size 432x288 with 1 Axes>"
            ]
          },
          "metadata": {
            "tags": [],
            "needs_background": "light"
          }
        }
      ]
    },
    {
      "cell_type": "code",
      "metadata": {
        "id": "jEgm6o_gP1jV"
      },
      "source": [
        "dfs"
      ],
      "execution_count": null,
      "outputs": []
    },
    {
      "cell_type": "code",
      "metadata": {
        "id": "g6v-YfsDFYnW"
      },
      "source": [
        "##JL\n",
        "#Problématique 1 : Identifier les thèmes des corpus\n",
        "#Problématique 2 : Résumé le corpus en quelques mots clés\n",
        "#Problématique 3 : Analyse de sentiment"
      ],
      "execution_count": null,
      "outputs": []
    },
    {
      "cell_type": "code",
      "metadata": {
        "id": "-700TsL4763H"
      },
      "source": [
        ""
      ],
      "execution_count": null,
      "outputs": []
    },
    {
      "cell_type": "code",
      "metadata": {
        "id": "Ich78lmgoLMs"
      },
      "source": [
        "# A faire:\n",
        "# Tokennizer: gérer la ponctuation, séparer en phrase\n",
        "#tokenizer=nltk.data.load('tokenizers/punkt/english.pickle')\n",
        "#text=\" Hello everyone. Hope all are fine and doing well. Hope you find the book interesting\"\n",
        "#tokenizer.tokenize(text)\n",
        "\n",
        "#ou \n",
        "#from nltk.tokenize import TreebankWordTokenizer\n",
        "#tokenizer = TreebankWordTokenizer()"
      ],
      "execution_count": null,
      "outputs": []
    },
    {
      "cell_type": "code",
      "metadata": {
        "id": "P8JrjQqjoGrc"
      },
      "source": [
        "#Clean\n",
        "#Maj ou Min\n",
        "#print(text.lower())\n",
        "#print(text.upper())\n",
        "\n",
        "#Remplacer mot\n",
        "#import re\n",
        "#replacement_patterns = [\n",
        "#(r'don\\'t', 'do not'),\n",
        "#(r'didn\\'t', 'did not'),\n",
        "#(r'can\\'t', 'cannot')\n",
        "#]\n",
        "#class RegexpReplacer(object):\n",
        "#   def __init__(self, patterns=replacement_patterns):\n",
        "#      self.patterns = [(re.compile(regex), repl) for (regex, repl) in patterns]\n",
        "#\n",
        "#   def replace(self, text):\n",
        "#      s = text\n",
        "#      for (pattern, repl) in self.patterns:\n",
        "#           s = re.sub(pattern, repl, s)\n",
        "#      return s\n",
        "#replacer=RegexpReplacer()\n",
        "\n",
        "#Lemmatizer (changer forme du mot) si besoin"
      ],
      "execution_count": null,
      "outputs": []
    },
    {
      "cell_type": "code",
      "metadata": {
        "id": "FTe0K0IIoF3Z"
      },
      "source": [
        "#stopwords\n",
        "#import nltk\n",
        "#nltk.download('stopwords')\n",
        "#from nltk.corpus import stopwords\n",
        "#stops=set(stopwords.words('english'))\n",
        "#words=[\"Don't\", 'hesitate','to','ask','questions']\n",
        "#[word for word in words if word not in stops]"
      ],
      "execution_count": null,
      "outputs": []
    },
    {
      "cell_type": "code",
      "metadata": {
        "id": "A4uBMHyzoCuD"
      },
      "source": [
        "#Model\n",
        "\n",
        "#Distance de jacquart\n",
        "#from nltk.metrics import *\n",
        "#s1 =set(article1_tk)\n",
        "#s2 = set(article2_tk)\n",
        "#s3 = set(article3_tk)\n",
        "#print(jaccard_distance(s1,s2))\n",
        "#print(jaccard_distance(s1,s3))\n",
        "#plus la distance est petite plus c’est proche\n",
        "\n",
        "#Part of speech\n",
        "#from nltk.tag import UnigramTagger\n",
        "#train_sents = treebank.tagged_sents()[:3000]\n",
        "#tagger = UnigramTagger(train_sents)\n",
        "#treebank.sents()[0]\n",
        "#tagger.tag(treebank.sents()[0]) -> donne le POSP\n",
        "\n",
        "#Word2Vec\n",
        "#model = word2vec.Word2Vec(corpus, size=100, window=20, min_count=200, workers=4)\n",
        "\n",
        "\n",
        "#Embedding + Deep learning\n",
        "#Transformer phrase ou mot en vecteur -> modéle possible : LSTM, Embedding venant du hub\n",
        "\n",
        "#SentiWordNet\n",
        "\n",
        "#Tf-idf : score du mot (niveau d'information)\n",
        "#the specificity of a term can be quantified as an inverse function of the number of documents in which it occurs. \n",
        "\n",
        "\n",
        "# LDA :Text clustering\n",
        "#\n",
        "\n",
        "#LSA: LSA is mainly useful for automatic categorization of text\n",
        "#LSA represent a corpus as a matrix of terms in relation to documents\n",
        "#A column represent a document and a row represent a term.\n",
        "#A cell is the tf idf of a term in a document.\n",
        "\n",
        "#TSNE\n",
        "#https://scikit-learn.org/stable/modules/generated/sklearn.manifold.TSNE.html\n",
        "#Outil graphique pour classification\n",
        "\n",
        "#RandomForest\n",
        "\n",
        "#k-means\n"
      ],
      "execution_count": null,
      "outputs": []
    },
    {
      "cell_type": "code",
      "metadata": {
        "id": "88HGqIO7d4fz"
      },
      "source": [
        ""
      ],
      "execution_count": null,
      "outputs": []
    },
    {
      "cell_type": "code",
      "metadata": {
        "id": "f_VC5LNUqi70"
      },
      "source": [
        ""
      ],
      "execution_count": null,
      "outputs": []
    }
  ]
}